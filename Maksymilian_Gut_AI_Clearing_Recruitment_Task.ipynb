{
  "cells": [
    {
      "attachments": {},
      "cell_type": "markdown",
      "metadata": {},
      "source": [
        "### Prepare env"
      ]
    },
    {
      "cell_type": "code",
      "execution_count": 1,
      "metadata": {
        "colab": {
          "base_uri": "https://localhost:8080/"
        },
        "id": "wC79JBvKCrts",
        "outputId": "0b1e376f-1d5b-4286-d514-a90fbe7abaac"
      },
      "outputs": [
        {
          "name": "stdout",
          "output_type": "stream",
          "text": [
            "Requirement already satisfied: torchinfo in /home/aura/miniconda3/lib/python3.10/site-packages (1.8.0)\n"
          ]
        }
      ],
      "source": [
        "!pip install torchinfo"
      ]
    },
    {
      "attachments": {},
      "cell_type": "markdown",
      "metadata": {},
      "source": [
        "### Imports"
      ]
    },
    {
      "cell_type": "code",
      "execution_count": 26,
      "metadata": {
        "colab": {
          "base_uri": "https://localhost:8080/"
        },
        "id": "Un5HfEpTGiDH",
        "outputId": "ec1f9792-8370-4378-9c8b-b99640bcb4a8"
      },
      "outputs": [],
      "source": [
        "import os\n",
        "import numpy as np\n",
        "from tqdm import tqdm\n",
        "from torchinfo import summary\n",
        "import matplotlib.pyplot as plt\n",
        "\n",
        "\n",
        "import torch\n",
        "import torchvision\n",
        "import torch.nn as nn\n",
        "from torchvision.datasets import FashionMNIST\n",
        "from torch.utils.data import random_split, DataLoader, Dataset\n",
        "from torchvision.transforms import transforms, ToTensor"
      ]
    },
    {
      "attachments": {},
      "cell_type": "markdown",
      "metadata": {},
      "source": [
        "### Set device"
      ]
    },
    {
      "cell_type": "code",
      "execution_count": 3,
      "metadata": {},
      "outputs": [
        {
          "data": {
            "text/plain": [
              "device(type='cpu')"
            ]
          },
          "execution_count": 3,
          "metadata": {},
          "output_type": "execute_result"
        }
      ],
      "source": [
        "\n",
        "device = torch.device(\"cuda\" if torch.cuda.is_available() else \"cpu\")\n",
        "device"
      ]
    },
    {
      "attachments": {},
      "cell_type": "markdown",
      "metadata": {},
      "source": [
        "### Database preprocessing for binary classification"
      ]
    },
    {
      "cell_type": "code",
      "execution_count": 4,
      "metadata": {
        "id": "KgEaWbRVbOrN"
      },
      "outputs": [],
      "source": [
        "transform = transforms.Compose([transforms.ToTensor(),\n",
        "                               transforms.Normalize((0.5,), (0.5,))])\n",
        "\n",
        "train_dataset = FashionMNIST(root='./', train=True, download=True, transform=transform)\n",
        "test_dataset =  FashionMNIST(root='./', train=False, download=True, transform=transform)\n",
        "\n",
        "# Rebalancing dataset -> 18k shoes + 7 other classes x 2571 ~= 18k\n",
        "shoes, other = [], []\n",
        "\n",
        "for idx, element in enumerate(train_dataset):\n",
        "    if element[1] == 5 or element[1] == 7 or element[1] == 9:\n",
        "        shoes.append(idx)\n",
        "    else:\n",
        "        other.append(idx)\n",
        "\n",
        "shoes_data = [train_dataset[x] for x in shoes]\n",
        "\n",
        "items_dict = train_dataset.class_to_idx\n",
        "clothes = []\n",
        "for item in items_dict:\n",
        "    if items_dict[item] != 5 and items_dict[item] != 7 != 9:\n",
        "        x = [train_dataset[x] for x in other if train_dataset[x][1] == items_dict[item]][:2571] #2571 examples from each class of non shoe category.\n",
        "        clothes.extend(x)\n",
        "\n",
        "relabeled_shoe_data = []\n",
        "for data in shoes_data:\n",
        "    new_data = list(data)\n",
        "    new_data[1] = 1.0\n",
        "    relabeled_shoe_data.append(new_data)\n",
        "\n",
        "relabeled_clothes_data = []\n",
        "for data in clothes:\n",
        "    new_data = list(data)\n",
        "    new_data[1] = 0.0\n",
        "    relabeled_clothes_data.append(new_data)\n",
        "\n",
        "train_set = relabeled_shoe_data + relabeled_clothes_data\n",
        "\n",
        "# Test data\n",
        "relabeled_test_data = []\n",
        "for data in test_dataset:\n",
        "  if data[1] == 5 or data[1] == 7 or data[1] == 9:\n",
        "    new_data = list(data)\n",
        "    new_data[1] = 1.0\n",
        "    relabeled_test_data.append(new_data)\n",
        "  else:\n",
        "    new_data = list(data)\n",
        "    new_data[1] = 0.0\n",
        "    relabeled_test_data.append(new_data)"
      ]
    },
    {
      "attachments": {},
      "cell_type": "markdown",
      "metadata": {},
      "source": [
        "### Database split"
      ]
    },
    {
      "cell_type": "code",
      "execution_count": 5,
      "metadata": {
        "id": "DtWTy0VS-wY_"
      },
      "outputs": [],
      "source": [
        "# Creating Datasets\n",
        "SPLIT_RATIO = 0.8\n",
        "BATCH_SIZE = 128\n",
        "\n",
        "train_size = int(len(train_set)*SPLIT_RATIO)\n",
        "val_size = int(len(train_set) - train_size)\n",
        "\n",
        "\n",
        "\n",
        "train, validation = random_split(dataset = train_set,\n",
        "                          lengths = [train_size, val_size],\n",
        "                          generator = torch.Generator().manual_seed(77))\n",
        "\n",
        "train_dataloader = DataLoader(dataset=train, batch_size=BATCH_SIZE, shuffle=True, num_workers=2)\n",
        "val_dataloader = DataLoader(dataset=validation, batch_size=BATCH_SIZE, shuffle = False, num_workers=2)\n",
        "test_dataloader = DataLoader(dataset=relabeled_test_data, batch_size=BATCH_SIZE, shuffle = False, num_workers=2)"
      ]
    },
    {
      "attachments": {},
      "cell_type": "markdown",
      "metadata": {},
      "source": [
        "### Testing training dataset and assigned label correnctness"
      ]
    },
    {
      "cell_type": "code",
      "execution_count": 6,
      "metadata": {
        "colab": {
          "base_uri": "https://localhost:8080/",
          "height": 524
        },
        "id": "SCXAnaoaCa_1",
        "outputId": "f9b2cb78-6728-4b20-e38a-98f2376af5a0"
      },
      "outputs": [
        {
          "name": "stdout",
          "output_type": "stream",
          "text": [
            "<torch.utils.data.dataloader._MultiProcessingDataLoaderIter object at 0x7efd7a4b6fe0>\n"
          ]
        },
        {
          "data": {
            "image/png": "[encoded data removed]",
            "text/plain": [
              "<Figure size 1500x500 with 30 Axes>"
            ]
          },
          "metadata": {},
          "output_type": "display_data"
        }
      ],
      "source": [
        "# Just checking train/val label correctness\n",
        "dataiter = iter(train_dataloader)\n",
        "print(dataiter)\n",
        "images, labels = next(dataiter)\n",
        "\n",
        "fig = plt.figure(figsize=(15,5))\n",
        "for idx in np.arange(30):\n",
        "  ax = fig.add_subplot(3, 10, idx+1, xticks=[], yticks=[])\n",
        "  ax.imshow(np.squeeze(images[idx]), cmap='gray')\n",
        "  ax.set_title(labels[idx].item())\n",
        "  fig.tight_layout()"
      ]
    },
    {
      "attachments": {},
      "cell_type": "markdown",
      "metadata": {},
      "source": [
        "### Same as above, just for a testing data"
      ]
    },
    {
      "cell_type": "code",
      "execution_count": 7,
      "metadata": {
        "colab": {
          "base_uri": "https://localhost:8080/",
          "height": 524
        },
        "id": "Q8ipuzrGCca_",
        "outputId": "9cf821d0-e1aa-4b8b-d889-40ebf958792a"
      },
      "outputs": [
        {
          "name": "stdout",
          "output_type": "stream",
          "text": [
            "<torch.utils.data.dataloader._MultiProcessingDataLoaderIter object at 0x7efd5c046ec0>\n"
          ]
        },
        {
          "data": {
            "image/png": "[encoded data removed]",
            "text/plain": [
              "<Figure size 1500x500 with 30 Axes>"
            ]
          },
          "metadata": {},
          "output_type": "display_data"
        }
      ],
      "source": [
        "# Just checking test label correctness\n",
        "dataiter = iter(test_dataloader)\n",
        "print(dataiter)\n",
        "images, labels = next(dataiter)\n",
        "\n",
        "fig = plt.figure(figsize=(15,5))\n",
        "for idx in np.arange(30):\n",
        "  ax = fig.add_subplot(3, 10, idx+1, xticks=[], yticks=[])\n",
        "  ax.imshow(np.squeeze(images[idx]), cmap='gray')\n",
        "  ax.set_title(labels[idx].item())\n",
        "  fig.tight_layout()"
      ]
    },
    {
      "attachments": {},
      "cell_type": "markdown",
      "metadata": {},
      "source": [
        "### Accuracy function"
      ]
    },
    {
      "cell_type": "code",
      "execution_count": 8,
      "metadata": {
        "id": "WP_7jtIjC6C6"
      },
      "outputs": [],
      "source": [
        "# Accuracy function\n",
        "def calculate_accuracy(outputs, labels):\n",
        "    predictions = torch.round(torch.sigmoid(outputs))\n",
        "    correct = (predictions == labels).sum().item()\n",
        "    total = labels.size(0)\n",
        "    accuracy = correct / total\n",
        "    return accuracy"
      ]
    },
    {
      "attachments": {},
      "cell_type": "markdown",
      "metadata": {},
      "source": [
        "### Neural Net model class"
      ]
    },
    {
      "cell_type": "code",
      "execution_count": 11,
      "metadata": {
        "id": "XlH0tkeRC8W7"
      },
      "outputs": [],
      "source": [
        "class BinaryFMnist(nn.Module):\n",
        "    def __init__(self):\n",
        "        super(BinaryFMnist, self).__init__()\n",
        "        self.conv1 = nn.Conv2d(in_channels=1, out_channels=6, kernel_size=5)\n",
        "        self.conv2 = nn.Conv2d(in_channels=6, out_channels=12, kernel_size=5)\n",
        "\n",
        "        self.relu = nn.LeakyReLU()\n",
        "        self.flatten = nn.Flatten()\n",
        "\n",
        "        self.linear1 = nn.Linear(in_features=12*4*4, out_features=120)\n",
        "        self.linear2 = nn.Linear(in_features=120, out_features=60)\n",
        "        self.out = nn.Linear(in_features=60, out_features=1)\n",
        "\n",
        "    def forward(self, x):\n",
        "        # conv 1\n",
        "        x = self.conv1(x)\n",
        "        x = self.relu(x)\n",
        "        x = nn.functional.max_pool2d(x, kernel_size=2, stride=2)\n",
        "        # conv 2\n",
        "        x = self.conv2(x)\n",
        "        x = self.relu(x)\n",
        "        x = nn.functional.max_pool2d(x, kernel_size=2, stride=2)\n",
        "        # fc1\n",
        "        x = self.flatten(x)\n",
        "        x = self.linear1(x)\n",
        "        x = self.relu(x)\n",
        "        # fc2\n",
        "        x = self.linear2(x)\n",
        "        x = self.relu(x)\n",
        "        # output\n",
        "        x = self.out(x)\n",
        "\n",
        "        return x"
      ]
    },
    {
      "attachments": {},
      "cell_type": "markdown",
      "metadata": {},
      "source": [
        "### Training and validation"
      ]
    },
    {
      "cell_type": "code",
      "execution_count": 12,
      "metadata": {
        "colab": {
          "base_uri": "https://localhost:8080/"
        },
        "id": "5b7QdvDPC-ot",
        "outputId": "ad204e6d-88b6-437e-d1a9-eb4b3a8290f6"
      },
      "outputs": [
        {
          "name": "stderr",
          "output_type": "stream",
          "text": [
            "Epoch:1/100: 100%|██████████| 225/225 [00:02<00:00, 96.77it/s] \n",
            "Epoch:2/100: 100%|██████████| 225/225 [00:02<00:00, 92.99it/s] \n",
            "Epoch:3/100: 100%|██████████| 225/225 [00:02<00:00, 100.02it/s]\n",
            "Epoch:4/100: 100%|██████████| 225/225 [00:02<00:00, 99.41it/s] \n",
            "Epoch:5/100: 100%|██████████| 225/225 [00:02<00:00, 106.90it/s]\n",
            "Epoch:6/100: 100%|██████████| 225/225 [00:02<00:00, 91.86it/s] \n",
            "Epoch:7/100: 100%|██████████| 225/225 [00:02<00:00, 97.65it/s] \n",
            "Epoch:8/100: 100%|██████████| 225/225 [00:01<00:00, 117.70it/s]\n",
            "Epoch:9/100: 100%|██████████| 225/225 [00:02<00:00, 100.95it/s]\n",
            "Epoch:10/100: 100%|██████████| 225/225 [00:02<00:00, 105.73it/s]\n",
            "Epoch:11/100: 100%|██████████| 225/225 [00:02<00:00, 99.64it/s] \n",
            "Epoch:12/100: 100%|██████████| 225/225 [00:02<00:00, 91.68it/s] \n",
            "Epoch:13/100: 100%|██████████| 225/225 [00:02<00:00, 99.86it/s] \n",
            "Epoch:14/100: 100%|██████████| 225/225 [00:02<00:00, 105.21it/s]\n",
            "Epoch:15/100: 100%|██████████| 225/225 [00:02<00:00, 94.03it/s] \n",
            "Epoch:16/100: 100%|██████████| 225/225 [00:02<00:00, 102.57it/s]\n",
            "Epoch:17/100: 100%|██████████| 225/225 [00:02<00:00, 97.11it/s] \n",
            "Epoch:18/100: 100%|██████████| 225/225 [00:02<00:00, 101.83it/s]\n",
            "Epoch:19/100: 100%|██████████| 225/225 [00:02<00:00, 97.97it/s] \n",
            "Epoch:20/100: 100%|██████████| 225/225 [00:02<00:00, 94.48it/s] \n",
            "Epoch:21/100: 100%|██████████| 225/225 [00:02<00:00, 93.98it/s] \n",
            "Epoch:22/100: 100%|██████████| 225/225 [00:02<00:00, 105.55it/s]\n",
            "Epoch:23/100: 100%|██████████| 225/225 [00:02<00:00, 108.24it/s]\n",
            "Epoch:24/100: 100%|██████████| 225/225 [00:02<00:00, 94.05it/s] \n",
            "Epoch:25/100: 100%|██████████| 225/225 [00:02<00:00, 95.13it/s] \n",
            "Epoch:26/100: 100%|██████████| 225/225 [00:02<00:00, 92.17it/s] \n",
            "Epoch:27/100: 100%|██████████| 225/225 [00:02<00:00, 78.23it/s]\n",
            "Epoch:28/100: 100%|██████████| 225/225 [00:02<00:00, 95.00it/s] \n",
            "Epoch:29/100: 100%|██████████| 225/225 [00:02<00:00, 90.56it/s] \n",
            "Epoch:30/100: 100%|██████████| 225/225 [00:03<00:00, 71.57it/s]\n",
            "Epoch:31/100: 100%|██████████| 225/225 [00:03<00:00, 68.28it/s]\n",
            "Epoch:32/100: 100%|██████████| 225/225 [00:03<00:00, 62.98it/s]\n",
            "Epoch:33/100: 100%|██████████| 225/225 [00:03<00:00, 71.35it/s]\n",
            "Epoch:34/100: 100%|██████████| 225/225 [00:03<00:00, 65.35it/s] \n",
            "Epoch:35/100: 100%|██████████| 225/225 [00:04<00:00, 48.26it/s]\n",
            "Epoch:36/100: 100%|██████████| 225/225 [00:03<00:00, 56.30it/s]\n",
            "Epoch:37/100: 100%|██████████| 225/225 [00:03<00:00, 71.13it/s]\n",
            "Epoch:38/100: 100%|██████████| 225/225 [00:03<00:00, 59.36it/s]\n",
            "Epoch:39/100: 100%|██████████| 225/225 [00:03<00:00, 66.00it/s]\n",
            "Epoch:40/100: 100%|██████████| 225/225 [00:03<00:00, 71.32it/s]\n",
            "Epoch:41/100: 100%|██████████| 225/225 [00:03<00:00, 69.06it/s]\n",
            "Epoch:42/100: 100%|██████████| 225/225 [00:03<00:00, 73.12it/s] \n",
            "Epoch:43/100: 100%|██████████| 225/225 [00:04<00:00, 54.44it/s]\n",
            "Epoch:44/100: 100%|██████████| 225/225 [00:03<00:00, 66.40it/s]\n",
            "Epoch:45/100: 100%|██████████| 225/225 [00:03<00:00, 71.11it/s]\n",
            "Epoch:46/100: 100%|██████████| 225/225 [00:02<00:00, 87.21it/s] \n",
            "Epoch:47/100: 100%|██████████| 225/225 [00:03<00:00, 72.78it/s]\n",
            "Epoch:48/100: 100%|██████████| 225/225 [00:04<00:00, 55.60it/s]\n",
            "Epoch:49/100: 100%|██████████| 225/225 [00:03<00:00, 67.64it/s]\n",
            "Epoch:50/100: 100%|██████████| 225/225 [00:03<00:00, 72.46it/s]\n",
            "Epoch:51/100: 100%|██████████| 225/225 [00:03<00:00, 64.49it/s]\n",
            "Epoch:52/100: 100%|██████████| 225/225 [00:03<00:00, 66.29it/s]\n",
            "Epoch:53/100: 100%|██████████| 225/225 [00:03<00:00, 71.09it/s]\n",
            "Epoch:54/100: 100%|██████████| 225/225 [00:02<00:00, 78.93it/s]\n",
            "Epoch:55/100: 100%|██████████| 225/225 [00:03<00:00, 73.61it/s]\n",
            "Epoch:56/100: 100%|██████████| 225/225 [00:02<00:00, 95.87it/s] \n",
            "Epoch:57/100: 100%|██████████| 225/225 [00:02<00:00, 75.04it/s]\n",
            "Epoch:58/100: 100%|██████████| 225/225 [00:02<00:00, 81.92it/s] \n",
            "Epoch:59/100: 100%|██████████| 225/225 [00:03<00:00, 71.64it/s]\n",
            "Epoch:60/100: 100%|██████████| 225/225 [00:03<00:00, 73.48it/s]\n",
            "Epoch:61/100: 100%|██████████| 225/225 [00:02<00:00, 77.22it/s]\n",
            "Epoch:62/100: 100%|██████████| 225/225 [00:02<00:00, 81.63it/s] \n",
            "Epoch:63/100: 100%|██████████| 225/225 [00:03<00:00, 59.52it/s]\n",
            "Epoch:64/100: 100%|██████████| 225/225 [00:04<00:00, 52.81it/s]\n",
            "Epoch:65/100: 100%|██████████| 225/225 [00:04<00:00, 55.88it/s]\n",
            "Epoch:66/100: 100%|██████████| 225/225 [00:03<00:00, 68.63it/s]\n",
            "Epoch:67/100: 100%|██████████| 225/225 [00:02<00:00, 77.72it/s] \n",
            "Epoch:68/100: 100%|██████████| 225/225 [00:02<00:00, 90.04it/s] \n",
            "Epoch:69/100: 100%|██████████| 225/225 [00:02<00:00, 100.37it/s]\n",
            "Epoch:70/100: 100%|██████████| 225/225 [00:02<00:00, 100.33it/s]\n",
            "Epoch:71/100: 100%|██████████| 225/225 [00:02<00:00, 75.86it/s]\n",
            "Epoch:72/100: 100%|██████████| 225/225 [00:03<00:00, 60.73it/s]\n",
            "Epoch:73/100: 100%|██████████| 225/225 [00:02<00:00, 83.19it/s]\n",
            "Epoch:74/100: 100%|██████████| 225/225 [00:02<00:00, 83.54it/s] \n",
            "Epoch:75/100: 100%|██████████| 225/225 [00:03<00:00, 70.09it/s]\n",
            "Epoch:76/100: 100%|██████████| 225/225 [00:02<00:00, 91.78it/s] \n",
            "Epoch:77/100: 100%|██████████| 225/225 [00:03<00:00, 74.87it/s]\n",
            "Epoch:78/100: 100%|██████████| 225/225 [00:03<00:00, 67.87it/s]\n",
            "Epoch:79/100: 100%|██████████| 225/225 [00:03<00:00, 72.99it/s]\n",
            "Epoch:80/100: 100%|██████████| 225/225 [00:02<00:00, 88.52it/s] \n",
            "Epoch:81/100: 100%|██████████| 225/225 [00:02<00:00, 78.92it/s]\n",
            "Epoch:82/100: 100%|██████████| 225/225 [00:02<00:00, 91.82it/s] \n",
            "Epoch:83/100: 100%|██████████| 225/225 [00:02<00:00, 97.14it/s] \n",
            "Epoch:84/100: 100%|██████████| 225/225 [00:02<00:00, 78.38it/s]\n",
            "Epoch:85/100: 100%|██████████| 225/225 [00:02<00:00, 84.13it/s]\n",
            "Epoch:86/100: 100%|██████████| 225/225 [00:02<00:00, 93.22it/s] \n",
            "Epoch:87/100: 100%|██████████| 225/225 [00:03<00:00, 72.31it/s]\n",
            "Epoch:88/100: 100%|██████████| 225/225 [00:02<00:00, 78.61it/s]\n",
            "Epoch:89/100: 100%|██████████| 225/225 [00:02<00:00, 83.19it/s]\n",
            "Epoch:90/100: 100%|██████████| 225/225 [00:02<00:00, 89.66it/s] \n",
            "Epoch:91/100: 100%|██████████| 225/225 [00:02<00:00, 105.21it/s]\n",
            "Epoch:92/100: 100%|██████████| 225/225 [00:02<00:00, 89.09it/s] \n",
            "Epoch:93/100: 100%|██████████| 225/225 [00:02<00:00, 93.86it/s] \n",
            "Epoch:94/100: 100%|██████████| 225/225 [00:02<00:00, 83.33it/s] \n",
            "Epoch:95/100: 100%|██████████| 225/225 [00:03<00:00, 71.71it/s]\n",
            "Epoch:96/100: 100%|██████████| 225/225 [00:02<00:00, 81.83it/s] \n",
            "Epoch:97/100: 100%|██████████| 225/225 [00:02<00:00, 95.12it/s] \n",
            "Epoch:98/100: 100%|██████████| 225/225 [00:03<00:00, 74.23it/s]\n",
            "Epoch:99/100: 100%|██████████| 225/225 [00:03<00:00, 66.43it/s]\n",
            "Epoch:100/100: 100%|██████████| 225/225 [00:03<00:00, 69.72it/s]\n"
          ]
        }
      ],
      "source": [
        "EPOCHS = 100\n",
        "LEARNNING_RATE = 0.00001\n",
        "\n",
        "model = BinaryFMnist().to(device)\n",
        "criterion = nn.BCEWithLogitsLoss()\n",
        "optimizer = torch.optim.Adam(model.parameters(), lr = LEARNNING_RATE)\n",
        "\n",
        "# Train & validate\n",
        "epoch_loss, val_epoch_loss, val_epoch_accuracy = [], [], []\n",
        "\n",
        "for epoch in range(EPOCHS):\n",
        "    running_loss = 0.0\n",
        "\n",
        "    #Train\n",
        "    for img, label in tqdm(train_dataloader, leave=True, desc=f'Epoch:{epoch+1}/{EPOCHS}'):\n",
        "        img, label = img.to(device), label.to(device)\n",
        "        output = model(img)\n",
        "        output = output.squeeze()\n",
        "        loss = criterion(output, label)\n",
        "        optimizer.zero_grad()\n",
        "        loss.backward()\n",
        "        optimizer.step()\n",
        "        running_loss += loss.item()\n",
        "    epoch_loss.append(running_loss)\n",
        "\n",
        "    #Validate\n",
        "    model.eval()\n",
        "    with torch.no_grad():\n",
        "        val_running_loss = 0.0\n",
        "        val_running_accuracy = 0.0\n",
        "\n",
        "        for v_img, v_label in val_dataloader:\n",
        "            v_img, v_label = v_img.to(device), v_label.to(device)\n",
        "            output = model(v_img)\n",
        "            output = output.squeeze()\n",
        "            val_loss = criterion(output, v_label)\n",
        "            val_running_loss += val_loss.item()\n",
        "\n",
        "            val_accuracy = calculate_accuracy(output, v_label)\n",
        "            val_running_accuracy += val_accuracy\n",
        "\n",
        "        val_epoch_loss.append(val_running_loss)\n",
        "        val_epoch_accuracy.append(val_running_accuracy / len(val_dataloader))"
      ]
    },
    {
      "attachments": {},
      "cell_type": "markdown",
      "metadata": {},
      "source": [
        "### Train & validation loss plot"
      ]
    },
    {
      "cell_type": "code",
      "execution_count": 14,
      "metadata": {
        "colab": {
          "base_uri": "https://localhost:8080/",
          "height": 482
        },
        "id": "H4OBWepcDB2C",
        "outputId": "7c6b4675-cc53-4749-d2ce-72a64ff26d7b"
      },
      "outputs": [
        {
          "name": "stdout",
          "output_type": "stream",
          "text": [
            "Training loss:  10.471139366164957\n",
            "Validation loss:  2.394598818943984\n",
            "Validation accuracy:  98.9487390350877\n"
          ]
        },
        {
          "data": {
            "image/png": "[encoded data removed]",
            "text/plain": [
              "<Figure size 640x480 with 1 Axes>"
            ]
          },
          "metadata": {},
          "output_type": "display_data"
        }
      ],
      "source": [
        "print(\"Training loss: \", sum(epoch_loss)/len(epoch_loss))\n",
        "print(\"Validation loss: \", sum(val_epoch_loss)/len(val_epoch_loss))\n",
        "print(\"Validation accuracy: \", sum(val_epoch_accuracy)*100/len(val_epoch_accuracy))\n",
        "\n",
        "fig, ax = plt.subplots()\n",
        "ax.plot(epoch_loss, label='Training')\n",
        "ax.plot(val_epoch_loss, label='Validation')\n",
        "leg = ax.legend();"
      ]
    },
    {
      "attachments": {},
      "cell_type": "markdown",
      "metadata": {},
      "source": [
        "### Testing"
      ]
    },
    {
      "cell_type": "code",
      "execution_count": 15,
      "metadata": {
        "colab": {
          "base_uri": "https://localhost:8080/"
        },
        "id": "II7UuCATDDY9",
        "outputId": "21c2ab5d-ebfc-4306-a237-93df4285a791"
      },
      "outputs": [
        {
          "name": "stdout",
          "output_type": "stream",
          "text": [
            "Testing Loss: 0.008561266098616897\n",
            "Testing Accuracy: 99.78243670886076%\n"
          ]
        }
      ],
      "source": [
        "# TEST\n",
        "test_loss = 0.0\n",
        "test_accuracy = 0.0\n",
        "model.eval()\n",
        "\n",
        "with torch.no_grad():\n",
        "    for t_img, t_label in test_dataloader:\n",
        "        t_img, t_label = t_img.to(device), t_label.to(device)\n",
        "        output = model(t_img)\n",
        "        output = output.squeeze()\n",
        "        test_loss += criterion(output, t_label).item()  # Convert labels to Long data type\n",
        "        test_accuracy += calculate_accuracy(output, t_label)\n",
        "\n",
        "test_loss /= len(test_dataloader)\n",
        "test_accuracy /= len(test_dataloader)\n",
        "\n",
        "print('Testing Loss:', test_loss)\n",
        "print(f'Testing Accuracy: {test_accuracy * 100}%')"
      ]
    },
    {
      "cell_type": "code",
      "execution_count": 16,
      "metadata": {
        "id": "YvdD-t9ADElC"
      },
      "outputs": [],
      "source": [
        "torch.save(model.state_dict(), './model.pth')"
      ]
    },
    {
      "attachments": {},
      "cell_type": "markdown",
      "metadata": {},
      "source": [
        "### Transfer Learning "
      ]
    },
    {
      "cell_type": "code",
      "execution_count": 21,
      "metadata": {
        "id": "GZT8cEArepMp"
      },
      "outputs": [],
      "source": [
        "class BinaryFMnist(nn.Module):\n",
        "    def __init__(self):\n",
        "        super(BinaryFMnist, self).__init__()\n",
        "       # define layers\n",
        "        self.conv1 = nn.Conv2d(in_channels=1, out_channels=6, kernel_size=5)\n",
        "        self.conv2 = nn.Conv2d(in_channels=6, out_channels=12, kernel_size=5)\n",
        "\n",
        "        self.relu = nn.LeakyReLU()\n",
        "        self.flatten = nn.Flatten()\n",
        "\n",
        "        self.linear1 = nn.Linear(in_features=12*4*4, out_features=120)\n",
        "        self.linear2 = nn.Linear(in_features=120, out_features=60)\n",
        "        self.out = nn.Linear(in_features=60, out_features=1)\n",
        "\n",
        "    # define forward function\n",
        "    def forward(self, x):\n",
        "        # conv 1\n",
        "        x = self.conv1(x)\n",
        "        x = self.relu(x)\n",
        "        x = nn.functional.max_pool2d(x, kernel_size=2, stride=2)\n",
        "        # conv 2\n",
        "        x = self.conv2(x)\n",
        "        x = self.relu(x)\n",
        "        x = nn.functional.max_pool2d(x, kernel_size=2, stride=2)\n",
        "        # fc1\n",
        "        x = self.flatten(x)\n",
        "        x = self.linear1(x)\n",
        "        x = self.relu(x)\n",
        "        # fc2\n",
        "        x = self.linear2(x)\n",
        "        x = self.relu(x)\n",
        "        # output\n",
        "        x = self.out(x)\n",
        "\n",
        "        return x\n"
      ]
    },
    {
      "cell_type": "code",
      "execution_count": 22,
      "metadata": {
        "colab": {
          "base_uri": "https://localhost:8080/"
        },
        "id": "Luzl-gjjDJKu",
        "outputId": "344bde28-b0ed-4c77-ac44-336dd6694e18"
      },
      "outputs": [
        {
          "data": {
            "text/plain": [
              "<All keys matched successfully>"
            ]
          },
          "execution_count": 22,
          "metadata": {},
          "output_type": "execute_result"
        }
      ],
      "source": [
        "model = BinaryFMnist()\n",
        "model.load_state_dict(torch.load('./model.pth'))"
      ]
    },
    {
      "cell_type": "code",
      "execution_count": 23,
      "metadata": {
        "colab": {
          "base_uri": "https://localhost:8080/"
        },
        "id": "o9R0x1BIDLqU",
        "outputId": "974046ac-15a7-4206-9d0d-c9ef6f13ae93"
      },
      "outputs": [
        {
          "name": "stdout",
          "output_type": "stream",
          "text": [
            "==========================================================================================\n",
            "Layer (type:depth-idx)                   Output Shape              Param #\n",
            "==========================================================================================\n",
            "BinaryFMnist                             [128, 1]                  --\n",
            "├─Conv2d: 1-1                            [128, 6, 24, 24]          156\n",
            "├─LeakyReLU: 1-2                         [128, 6, 24, 24]          --\n",
            "├─Conv2d: 1-3                            [128, 12, 8, 8]           1,812\n",
            "├─LeakyReLU: 1-4                         [128, 12, 8, 8]           --\n",
            "├─Flatten: 1-5                           [128, 192]                --\n",
            "├─Linear: 1-6                            [128, 120]                23,160\n",
            "├─LeakyReLU: 1-7                         [128, 120]                --\n",
            "├─Linear: 1-8                            [128, 60]                 7,260\n",
            "├─LeakyReLU: 1-9                         [128, 60]                 --\n",
            "├─Linear: 1-10                           [128, 1]                  61\n",
            "==========================================================================================\n",
            "Total params: 32,449\n",
            "Trainable params: 32,449\n",
            "Non-trainable params: 0\n",
            "Total mult-adds (M): 30.25\n",
            "==========================================================================================\n",
            "Input size (MB): 0.40\n",
            "Forward/backward pass size (MB): 4.51\n",
            "Params size (MB): 0.13\n",
            "Estimated Total Size (MB): 5.04\n",
            "==========================================================================================\n"
          ]
        }
      ],
      "source": [
        "print(summary(model, input_size=(128, 1, 28, 28)))"
      ]
    },
    {
      "attachments": {},
      "cell_type": "markdown",
      "metadata": {},
      "source": [
        "### Freezeing layers and replacing with a two new one to learn new weights"
      ]
    },
    {
      "cell_type": "code",
      "execution_count": 27,
      "metadata": {
        "id": "wvETMFlZDNVg"
      },
      "outputs": [],
      "source": [
        "# Freeze all layers\n",
        "for param in model.parameters():\n",
        "    param.requires_grad = False\n",
        "\n",
        "#Replace 2 last FC layers\n",
        "model.linear1 = nn.Linear(192, 120)\n",
        "model.linear2 = nn.Linear(120, 60)\n",
        "model.out = nn.Linear(60, 1)"
      ]
    },
    {
      "attachments": {},
      "cell_type": "markdown",
      "metadata": {},
      "source": [
        "### Loading training examples - one for each category "
      ]
    },
    {
      "cell_type": "code",
      "execution_count": 28,
      "metadata": {
        "id": "x35Wh-M_DOdS"
      },
      "outputs": [],
      "source": [
        "flats_train = torchvision.io.read_image('./heels_flats/train/Flats/107.png')\n",
        "heels_train = torchvision.io.read_image('./heels_flats/train/Heels/746.png')\n",
        "img = [flats_train, heels_train]\n",
        "\n",
        "transform = transforms.Compose([transforms.ConvertImageDtype(torch.float32),\n",
        "                                transforms.Normalize((0.5,), (0.5,))])\n",
        "\n",
        "images = [transform(x) for x in img]\n",
        "label_flats, label_heels = torch.tensor(1.0), torch.tensor(0.0)\n",
        "labels = [label_flats, label_heels]\n",
        "\n",
        "class ShoeDataset(Dataset):\n",
        "    def __init__(self, imgs, label):\n",
        "        self.image = imgs\n",
        "        self.label = label\n",
        "\n",
        "    def __len__(self):\n",
        "        return len(self.image)\n",
        "\n",
        "    def __getitem__(self, idx):\n",
        "        image = self.image[idx]\n",
        "        label = self.label[idx]\n",
        "        return image, label\n",
        "\n",
        "train_dataset = ShoeDataset(images, labels)\n",
        "transfer_dataloader = DataLoader(train_dataset, batch_size=1, shuffle=True)"
      ]
    },
    {
      "attachments": {},
      "cell_type": "markdown",
      "metadata": {},
      "source": [
        "### Loading testing examples"
      ]
    },
    {
      "cell_type": "code",
      "execution_count": 30,
      "metadata": {
        "id": "oOVgII-jDPZM"
      },
      "outputs": [],
      "source": [
        "flats_test = [torchvision.io.read_image(os.path.join('./heels_flats/test/Flats', img_dir)) for img_dir in os.listdir('./heels_flats/test/Flats')]\n",
        "heels_test = [torchvision.io.read_image(os.path.join('./heels_flats/test/Heels', img_dir)) for img_dir in os.listdir('./heels_flats/test/Heels')]\n",
        "\n",
        "transform = transforms.Compose([transforms.ConvertImageDtype(torch.float32),\n",
        "                                transforms.Normalize((0.5,), (0.5,))])\n",
        "\n",
        "flats_images = [transform(x) for x in flats_test]\n",
        "heels_images = [transform(x) for x in heels_test]\n",
        "\n",
        "flats_labels = [torch.tensor(1.0) for x in range(len(flats_images))]\n",
        "heels_labels = [torch.tensor(0.0) for x in range(len(heels_images))]\n",
        "\n",
        "images = flats_images + heels_images\n",
        "labels = flats_labels + heels_labels\n",
        "\n",
        "class TestShoeDataset(Dataset):\n",
        "    def __init__(self, imgs, label):\n",
        "        self.image = imgs\n",
        "        self.label = label\n",
        "\n",
        "    def __len__(self):\n",
        "        return len(self.image)\n",
        "\n",
        "    def __getitem__(self, idx):\n",
        "        image = self.image[idx]\n",
        "        label = self.label[idx]\n",
        "        return image, label\n",
        "\n",
        "test_dataset = TestShoeDataset(images, labels)\n",
        "transfer_test_dataloader = DataLoader(test_dataset, batch_size=1, shuffle=False)"
      ]
    },
    {
      "attachments": {},
      "cell_type": "markdown",
      "metadata": {},
      "source": [
        "### Retrainging new layers for new objective"
      ]
    },
    {
      "cell_type": "code",
      "execution_count": 31,
      "metadata": {
        "colab": {
          "base_uri": "https://localhost:8080/",
          "height": 1000
        },
        "id": "XZcPXQemDQXm",
        "outputId": "25bccbeb-ddae-4e18-8150-77a0a7cb1fe2"
      },
      "outputs": [
        {
          "name": "stderr",
          "output_type": "stream",
          "text": [
            "Epoch:0/50: 100%|██████████| 2/2 [00:00<00:00, 352.91it/s]\n",
            "Epoch:1/50: 100%|██████████| 2/2 [00:00<00:00, 390.93it/s]\n",
            "Epoch:2/50: 100%|██████████| 2/2 [00:00<00:00, 379.01it/s]\n",
            "Epoch:3/50: 100%|██████████| 2/2 [00:00<00:00, 319.15it/s]\n",
            "Epoch:4/50: 100%|██████████| 2/2 [00:00<00:00, 346.44it/s]\n",
            "Epoch:5/50: 100%|██████████| 2/2 [00:00<00:00, 680.40it/s]\n",
            "Epoch:6/50: 100%|██████████| 2/2 [00:00<00:00, 310.05it/s]\n",
            "Epoch:7/50: 100%|██████████| 2/2 [00:00<00:00, 451.02it/s]\n",
            "Epoch:8/50: 100%|██████████| 2/2 [00:00<00:00, 398.75it/s]\n",
            "Epoch:9/50: 100%|██████████| 2/2 [00:00<00:00, 592.88it/s]\n",
            "Epoch:10/50: 100%|██████████| 2/2 [00:00<00:00, 363.85it/s]\n",
            "Epoch:11/50: 100%|██████████| 2/2 [00:00<00:00, 628.08it/s]\n",
            "Epoch:12/50: 100%|██████████| 2/2 [00:00<00:00, 430.56it/s]\n",
            "Epoch:13/50: 100%|██████████| 2/2 [00:00<00:00, 795.51it/s]\n",
            "Epoch:14/50: 100%|██████████| 2/2 [00:00<00:00, 307.23it/s]\n",
            "Epoch:15/50: 100%|██████████| 2/2 [00:00<00:00, 536.22it/s]\n",
            "Epoch:16/50: 100%|██████████| 2/2 [00:00<00:00, 352.42it/s]\n",
            "Epoch:17/50: 100%|██████████| 2/2 [00:00<00:00, 545.85it/s]\n",
            "Epoch:18/50: 100%|██████████| 2/2 [00:00<00:00, 429.70it/s]\n",
            "Epoch:19/50: 100%|██████████| 2/2 [00:00<00:00, 676.28it/s]\n",
            "Epoch:20/50: 100%|██████████| 2/2 [00:00<00:00, 576.02it/s]\n",
            "Epoch:21/50: 100%|██████████| 2/2 [00:00<00:00, 373.47it/s]\n",
            "Epoch:22/50: 100%|██████████| 2/2 [00:00<00:00, 175.71it/s]\n",
            "Epoch:23/50: 100%|██████████| 2/2 [00:00<00:00, 268.44it/s]\n",
            "Epoch:24/50: 100%|██████████| 2/2 [00:00<00:00, 236.60it/s]\n",
            "Epoch:25/50: 100%|██████████| 2/2 [00:00<00:00, 346.15it/s]\n",
            "Epoch:26/50: 100%|██████████| 2/2 [00:00<00:00, 294.29it/s]\n",
            "Epoch:27/50: 100%|██████████| 2/2 [00:00<00:00, 318.49it/s]\n",
            "Epoch:28/50: 100%|██████████| 2/2 [00:00<00:00, 355.86it/s]\n",
            "Epoch:29/50: 100%|██████████| 2/2 [00:00<00:00, 375.61it/s]\n",
            "Epoch:30/50: 100%|██████████| 2/2 [00:00<00:00, 345.77it/s]\n",
            "Epoch:31/50: 100%|██████████| 2/2 [00:00<00:00, 340.82it/s]\n",
            "Epoch:32/50: 100%|██████████| 2/2 [00:00<00:00, 547.27it/s]\n",
            "Epoch:33/50: 100%|██████████| 2/2 [00:00<00:00, 469.21it/s]\n",
            "Epoch:34/50: 100%|██████████| 2/2 [00:00<00:00, 563.49it/s]\n",
            "Epoch:35/50: 100%|██████████| 2/2 [00:00<00:00, 384.53it/s]\n",
            "Epoch:36/50: 100%|██████████| 2/2 [00:00<00:00, 355.36it/s]\n",
            "Epoch:37/50: 100%|██████████| 2/2 [00:00<00:00, 386.48it/s]\n",
            "Epoch:38/50: 100%|██████████| 2/2 [00:00<00:00, 483.41it/s]\n",
            "Epoch:39/50: 100%|██████████| 2/2 [00:00<00:00, 575.00it/s]\n",
            "Epoch:40/50: 100%|██████████| 2/2 [00:00<00:00, 303.68it/s]\n",
            "Epoch:41/50: 100%|██████████| 2/2 [00:00<00:00, 366.07it/s]\n",
            "Epoch:42/50: 100%|██████████| 2/2 [00:00<00:00, 576.58it/s]\n",
            "Epoch:43/50: 100%|██████████| 2/2 [00:00<00:00, 347.27it/s]\n",
            "Epoch:44/50: 100%|██████████| 2/2 [00:00<00:00, 536.60it/s]\n",
            "Epoch:45/50: 100%|██████████| 2/2 [00:00<00:00, 655.87it/s]\n",
            "Epoch:46/50: 100%|██████████| 2/2 [00:00<00:00, 806.60it/s]\n",
            "Epoch:47/50: 100%|██████████| 2/2 [00:00<00:00, 304.49it/s]\n",
            "Epoch:48/50: 100%|██████████| 2/2 [00:00<00:00, 296.66it/s]\n",
            "Epoch:49/50: 100%|██████████| 2/2 [00:00<00:00, 350.78it/s]\n"
          ]
        },
        {
          "data": {
            "text/plain": [
              "[<matplotlib.lines.Line2D at 0x7efd4453c820>]"
            ]
          },
          "execution_count": 31,
          "metadata": {},
          "output_type": "execute_result"
        },
        {
          "data": {
            "image/png": "[encoded data removed]",
            "text/plain": [
              "<Figure size 640x480 with 1 Axes>"
            ]
          },
          "metadata": {},
          "output_type": "display_data"
        }
      ],
      "source": [
        "EPOCHS = 50\n",
        "LEARNNING_RATE = 0.001\n",
        "# m c o\n",
        "model = model.to(device)\n",
        "criterion = nn.BCEWithLogitsLoss()\n",
        "optimizer = torch.optim.Adam(model.parameters(), lr = LEARNNING_RATE)\n",
        "\n",
        "#TRAIN\n",
        "epoch_loss = []\n",
        "for epoch in range(EPOCHS):\n",
        "    running_loss = 0.0\n",
        "    for img, label in tqdm(transfer_dataloader, leave=True, desc=f'Epoch:{epoch}/{EPOCHS}'):\n",
        "        img, label = img.to(device), label.to(device)\n",
        "\n",
        "        output = model(img)\n",
        "        output = output[0]\n",
        "\n",
        "        loss = criterion(output, label)\n",
        "        optimizer.zero_grad()\n",
        "        loss.backward()\n",
        "        optimizer.step()\n",
        "        running_loss += loss.item()\n",
        "    epoch_loss.append(running_loss)\n",
        "\n",
        "plt.plot(epoch_loss)"
      ]
    },
    {
      "cell_type": "code",
      "execution_count": 32,
      "metadata": {
        "colab": {
          "base_uri": "https://localhost:8080/"
        },
        "id": "ehxpIqtdDRcy",
        "outputId": "4d208c62-2ba1-4ec2-8cf5-4113802cd5f9"
      },
      "outputs": [
        {
          "name": "stdout",
          "output_type": "stream",
          "text": [
            "Testing Loss: 0.29165171732893214\n",
            "Testing Accuracy: 85.0%\n"
          ]
        }
      ],
      "source": [
        "# TEST\n",
        "test_loss = 0.0\n",
        "test_accuracy = 0.0\n",
        "model.eval()\n",
        "with torch.no_grad():\n",
        "    for t_img, t_label in transfer_test_dataloader:\n",
        "        t_img, t_label = t_img.to(device), t_label.to(device)\n",
        "        output = model(t_img)\n",
        "        output = output[0]\n",
        "        test_loss += criterion(output, t_label).item()  # Convert labels to Long data type\n",
        "        test_accuracy += calculate_accuracy(output, t_label)\n",
        "\n",
        "test_loss /= len(transfer_test_dataloader)\n",
        "test_accuracy /= len(transfer_test_dataloader)\n",
        "\n",
        "print('Testing Loss:', test_loss)\n",
        "print(f'Testing Accuracy: {test_accuracy * 100}%')"
      ]
    }
  ],
  "metadata": {
    "accelerator": "GPU",
    "colab": {
      "gpuType": "T4",
      "provenance": []
    },
    "gpuClass": "standard",
    "kernelspec": {
      "display_name": "Python 3",
      "name": "python3"
    },
    "language_info": {
      "codemirror_mode": {
        "name": "ipython",
        "version": 3
      },
      "file_extension": ".py",
      "mimetype": "text/x-python",
      "name": "python",
      "nbconvert_exporter": "python",
      "pygments_lexer": "ipython3",
      "version": "3.10.11"
    }
  },
  "nbformat": 4,
  "nbformat_minor": 0
}
