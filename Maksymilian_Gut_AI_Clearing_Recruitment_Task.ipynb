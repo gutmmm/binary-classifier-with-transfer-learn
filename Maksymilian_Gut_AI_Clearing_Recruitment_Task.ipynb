{
  "cells": [
    {
      "cell_type": "markdown",
      "metadata": {
        "id": "Snww9h_UbVXd"
      },
      "source": [
        "![AIC Logo.png](data:image/png;base64,iVBORw0KGgoAAAANSUhEUgAAAfAAAADICAYAAAAX8rOSAAAYanpUWHRSYXcgcHJvZmlsZSB0eXBlIGV4aWYAAHjapZrZtVu5dkX/EYVDADb6cNCO4QwcvucCKVVJr15Ttq50SZGHOMBuVgPQnf/57+v+iz+51eRSrq30Ujx/Uk/dBk+a//wZ73fw6f1+f+6PZ+HX19368SHjpchj/Py3lc9j+PH69wM/HsPgWf7TQG1935i/vtHTd/z220DfG0XNyHiyvwP170DRPm+E7wDjsyxfeqt/XsI8n8fv5z9h4J/Tr7us67U8v3H47f+pEr2duU80OzFEz+8YvxOI+mcuDt6w97tzYeCCETM/I6Zo35kQkL+K088/3NZdTTX95UW/ZMX/k2yV+o3R79lK9r0k/hbk8vPxL193If91Vl7o/3Tn1L7P7NfXRwr5M6Pfov+Cf3e7b82sYqRCqMt3UT+W+J5xHelIunVzTK34yr/MEPX9dH4aVb0ohe2Xn/ys0IORrhtS2GGEG857XGExxWTHWeWJ2bL4XmyxWrcVlb+kn3Ctxh53bOR2vbSTzZ9zCe+23S/37ta48w5caoHBVA5/+8f93Q/cq1YIQbEk9eGTXzMFm2koc/rNZWQk3G9Q8wvwj5/f/yivkQxmRVkt0gns/Awxc/gDCeJLdOTCzOOnB0Pd3wEIEbfOTCZEMkDWQsyhBF/NaggEspGgwdQtJptkIORsm0lairGQm2a6NR+p4V1q2XjZ8TpgRiZyLLGSmx4HyUopUz81NWpo0Hop51xyzS33PEosqeRSSi0CxVEjCFlzLbXWVnsdLbbUciutttZ6G916BDRzL7321nsfg3sORh58enDBGNNmnGlmN8uss80+x6J8Vlp5lVVXW32NbTtu8GOXXXfbfY8TDqV00smnnHra6WdcSu1Gd9PNt9x62+13/MzaN63/8PM3sha+WbOXKV1Yf2aNV2v9MUQQnGTljISZo3nJmFJAQZty5ltIyZQ55cx3oyuyMcmsnO2gjJHBdILlG37kztkno8rc/ytvrqZf8mb/18w5pe5vZu4f8/ZXWduiofUy9ulCBdVHuo9rhjX+Aos2D+EqNXcAKu/bjrs5brtp70KM9rmjLcCMiOYz+dDdh6ynuuj5kEe917d1VwZBIQ8unxUo3bs6vdBOzuBZXKvOnUM+qoZ/8oHv9UGPPy/hAvenK/T+mqeEtU/6j4eMnsTc4IxqqO2cmfvkV4USjhHc0Gfs91Yeb15VOQJCWjYSZeOsWxdQ3SyJk89IbleubGOuChjTf+S53djbCXmN1aGCnde90+ok3GFpHvnGu9NN6wbqYpH8fBzlYqX7QAuXcimyeMem0G+p5FUf4wUWczXdtD0zs9tHDrMfPhFbP7VxH9coWH/uXqeHrdiU2gN1t9thgmF1K5M6H7vWDAGhyLhbtTVmXzOlvUasO9Xjwq7jzl1Diemyir7qni+w++7ycjMq8ytlhs/8NlkKeSJZ5syMYRkSiA4uondpwbx2WMnSPaXu0EGeG/wel6WvuXabJ/UtBUeQr5Go0W4du43bi+XuogZIfvZ2c5qNNuubXvGz1UwP0ACsr4Z8U6oNdUTQ5/W59Bj3WpsE82Q2c9dSW7kzDv1ZO/GnrRpBmInAnzk9fbDzSH2qf6mTQZpTpjPABggm6Dki4seTv/0ITNmwUGtBJo7oqKjY9PquFolKzLXuyC3TBE5moZRaGiGqEUhZXXRoXy3cZGWcjl44iR4errdCglehZnumGle7odU5Ip/Jfu55Z6W6rI+WyG0IZ4wVay+Zu4n0TqsklxaJubRDYAGkOkE7u7QInDioBg/uxGsvcNToakwbqlUZnBYpgXx6Fpv25DIxnmdUdWvU9CwA6DaqzXysbzJPp9JqB6i+g3zjFZj4potSYGnMEFSM7hwbm7cYKlJeEUxENs10yyq7C1oy8TmWz6YO77a5eXvRR8y4r73SHXH54kw9n5g9BZ5vNpsUUtmDbun9noNwu4DsmKAzsaLLas/rZE1oo78PSgAAb84WbXryIHUgsJBDTXEKUNEAbMocMN/KDNB3jGKNtJN6ZdnoZJqwaKJuCuAL/KQglZkhNqjLxj2aEKhCpNsCZYHddqCF2cGc3nIiNkYlERP6fDlmG+pgtFuQYysBfOavRO2kmUAKkHKekM5YtMm+Z3U0Y5xGfwEowCk8e3t3HphUeuOhHgWm1A+Dqa2V951vC+XMs2jQ067B063sCViQA+IL8I5Tr3f8HtRLxbUAROccP+YcIVF/VGUXtjz4yJUmLWIjaIzGVLIv8SlxZHqe9APF3ecBLaJ447oSD9giKpFGv0yYKMCL5EOVRHyBHyo8rzwht7Im7UM6wSP9MBWvW4HChGWjpsGhOYr6LELnwApKoIMiOaXVM+AA+hGEDfiC03s70CVkMBkQI46gdoVvWgEuLsw802a409sqsMBIHkaJlMEUcaYDLQ/gB5SOLm1gMwVQL66GjqF1OpICVSITiQ0RfVAOEYZZglbb2UghHWFqz7p0f8Sop4xQIBERu9XMRMMeKiOKeATXNlk8bZaxykXTUB5UQeJxlq00kBLedoUCTOebD8zFHzrh3zwiQUCmimIbLHE5MlKYEj4WqhUz7Nj3poKMOQv6aLHYgJ0UTyR6J91gNG1YJId2AEQySvG4FQP10POuAAy8BO/FUpFOJYRBPQ5VhL1SDYNRxquq7ZFUZ6J7KGM04KCyIcrzBEEKlNg4d8WD0KFaCGih7vOreKw2Cigz51v7hSbph4YkawzSQQ8XTDK13J4YLtJxUFlHeYKQ6gaLnSEKr5f5PswsAVefD2hXIOSIP6OOm6tSrsAnrFhhd/QodFN2ol1G9SAajrClg4y8D2KAhJbUmD09IAxeIhE1gg4UwqOSm1RohlWWh/KJNtwHxUhG8g9QmtIB9HQCLQzo69wxFSg8EWhHkZDKCqWDLX3FAkDW1mGaiiQuMDusibIsF9FC7ZyTG3wVM0sCvXlN7ugwo7P4fKdvkNnvCYJXSAxOxAdPMgL3yYqfEIU2oi1OQBAnqqPAuQ5hTu8C8IaZiErdokhkJRuF8yoX+qfSxw7zlUG7HhAiv4m6gw65B4XiSEFFipblc6y0oqQIWK+6p+k/JABaAWRNFg/AOjhZIAjlxLRDG0h3wMbRqR24gClGytxHMwBb4QRwgqk0IygWijdSGUDavXEWAkrQHqS/Pha6jsomtGvTqwBnbwlVh8RGv9VKwS7MJzixj8iSEaDggJRC+MqYLOZXjMYgesnJdSP0aWAswCDro2NDgHAS0w4S9oxZMsQBB3O3qS0K9GfQ3AnvXnfeeDpQ26WbUB/A8yQH5LXDk000HQDFQy3Rb7Za8ntRRdwGI03ZDumNiUqmvPG0uIwJqmN0csJt2NplZdqAyoVdYyC0+9aMNW+slw7GlFDQUCd5ROXRN09pEmyc03kdTb4/CU95ota411PV1PNFmuiKyWdQmoI1XFKVm0mhKiI0raTONkORzpA9MoyELa7ykVx4XNoJJJWeqduAyi0HAV6A1A2fEAEkQR0wsh7kDW0U/utH+AkfNqgNFPacYeOGd2NuoP6qKP8prGq39EazQ6XoY6n/ms4HSLQnwX0poFo2boYU2cCNTVgfOmniZQgSicD8EkhI6eBy4T8gAyK4xj3UWVoYFwv31kKqt/rEG5307UBpt+6Ia9hd5JROyX/gIb4Q+sMmHZKbKyhCXaFHsRPYVKoBaqSEmOqQUh4OlQBYgIkIkoAcanPGSPAmlCyjw4goW+rlMsGClsA2Ncp7W17pQRX6EuPiEmMWlHNPKOQGKNF0PdcDUX+oh2gkw7rCHzQlsgjKmSgDJFyeof9QMe43GTMi69NOXHkWC5NTb/cQ67+DFhf+jC2JMZu8cpwyax5H8okZvItxTuFDS7WmV6rjJvJxE7Di3ZncvqOBVkJUIFPBl47HqTMWgxNQLrjsjuRcTXslt6bq0Uo20/CtRO0ZUGXNdTCthqE0qcRC80apg5+8nw8qNqV2rG3ZVByOlEUVQ5wG39LpE5cBAA3oSMCFG2tNTrBSg1Q+UL/Fy7haVEaTd2xk3nqgQK/8rpa68rlP7SDDYBFUUt6N2rja4inEs9+IQduAK7cy+Afs2oXlUo7AYg0RN5JRNUldRtUQCneLzc7SgzGtKHW9qSQ+SCcUFAJK0jLYrS2YSu4RpP4ivKgOsAmGhr4EqG6je9AQQ84IOisrIjDxnJdxpj9nQzvw9SriHcSHUWYsC38gIFqYoXw9PecqvAd8iQ5xF56L0e0dEB1qTdocHWjSgtV4MzAEqhHmQZDYnzWV+yGeCkWPy/BkGmqcLKnEXd8hBDjMOg4Q3LpFLAfUx1opuPaWXGjH6zAK2nqI0riZi/jPuVWC6cDKaiuK8lcbimk8E3kdgRfi4yOeu7se6A31MSUGSE5UnNqFJu8+oBUC2od+hTRwjPycnBF1Y+Lo8WUkBTm6fTwOakxodBolABncsS3TzqpHY9CftO8oqlzZCBPvBk0gGWKuw7TaLE91Bu9AibNh52xQnjapbMyhXZrbaEu6DnAF5T0lLkbGiI2CAUCWhZ4CibZUYZwMQvaZqOnC1CNFOpjiCsh4PDWJtilOKNophrEDNIHXVHsKvRoNOpa90DkMwQ/JG6QMVk47LRUcFgQLBk0GK0WWAutF/3/EaM3heWW6A7UTL3UEJY+IGlOLMXjvGTbIOczG2lA6GXD+60FYMy4SkFwjFcdqMe5UlQECElrzpGdjWepFdWAZJXA74AvwkW1uBiW27aEPIHrzftxpOHocXDWqZuWBiLHYjuyubXob9YE1JRIdFzIximMo/xAPCLPF/Ew0LZZ2HSgIcT230UEYcBgNAYgAQsDFQnVTNvQUKhKQx+pFOZ4wyFXt1nphYBjQnLbbjKqh6HDs4TAB/GCix492zTYLA9I2Ho/qvFBkoxepPEQpjjBS9cg8+t6xmofKoAjXEZv7yB0gvSAILY2fSl2UNiGMLhWQGn4ZFfClR+LALBxAdLEn/Ael1iErbQVDk9bNQMX4NuVo/HToW+2c0ThB9mQuyP2Pkd136DcwoHUiFNrlApBdVMUSi9LmADNtvBIjPyb2b3sCmEWPQsbahmaQAN60x2MJjw0WK7yFgUhHAObqkBos2maA+KTqMCqwLcEt6N8Fgw4XJep0doMWgSpTBJTxUBJAE4mKXFswK8iZySEdhxt6jIcrT8zdYPZaUJuoWpyrb5AWQt9LGwYpuHhQjBuYA/xBYFUzoAa7A/h75IA+Rj0AzwlFS2+bA47qQRSC6kRb9uHFYK74sQ/D50zJ4jkOYIyXAJIMsxHQy1MzAlrkkl2ZqFC8t3FPlM9GcHlZDfnlM9/+CYC7JRWoZ20zdpFRrdqp22OiwxBnDcqOwEfq2IQN/GRECsG/uNku74oYmBnQbzpbWebpKtoP46CuDQUlSplvEQcFyYJybZVMw0A0tY4SUHBc5m+0AmdAtrgzZqetK/kx7bMdg3uiUJManMlBVdgNCDxSKoZUBtxTJDmBEiwyNNUvfKgUjT0P+Utpfwo7L5oWPYOxI2UQKjhOqJYK/Ax/aQ+q34BBlpZ0BqJjG/5G+e15QdxtqRWc5HIHeIfEKMnEKg2HLOWs4wtMKv5vNhkt9FRZsDjr2xlVQwYwOuhiGUZEkZamPeIF21YpHfVyP7lou1sH3oJcWZ5xCIpXY6HVgTP59SoX0MMunko7jlKg+oycwWgNhZNoIW00AioN6ecjGTo446wdZAQWWY0VEYSoXM/b2sQ0Fbe01bTVWdJ8lL22LjuOJdGVfIoltQGH08SLrBcUAw1L8fCRhTjHRmrjNjp5bBpyjbJjYfJnG9xg6IADA0oqo3EjjgoSph2wWIkag3QATyo3IN43zia+AxYdS7R3ziA0zVGnD8xfB1UMtCCmTHCaPxACZVC1HYVk6X9uJvdbN62hbm9T58d5luGn9iJwtKqna5PiIcm40Ii4g2WRRhD3KdNRQGHipkTSgijMPA1RWCgoQYMmm6MXX0ymuZoAs6sJPw0iT77fdruDvzE5cCqNhZDQWYB6k9iCf0vHiTSvvLNU9Wa4L4NTlikc6Y6AHhzF0VbopztaGUiL+9pzMJ15MrpPvsyimDMsna9U7lUGeD1bwMsSoA6Z0loVdwQ7IPeRzeCCzQKWUEKZOlZZaJfaurb3IPWNgQZf8X/R00xvg1zkxQ2vg8i6ju+1AXokuuRk5V215aejLOqMV6mQubCgTAuLm0CJps1vcC2Fh7eufHaFdA5IkaEQPt8MgD9Gib2Le2rGr9K9P++hTL+7fO+BiIMgA5g4R8NZ0ydm2IOacMqA0KRgtacNbLHIi0JFW8WuXc5MrRDspAFB2tCnWwgRXPoslGK5ZU1WbzroOaZjvXCelb9AGdgGx1UGwfRSbzKkXeSqXXJ4jVv7lWVVeUXLfW+c9XhOn3/beln+tuJZ0bxDh5G7kCodpUjS9bvczzEtPW8HAn7c3Q9vh3DASW/pD1pElWQta2MFO8BIde4q9+NYsg5NAr1DZxTSsREb2kfqHT4pkU9gkzPFfPShrYPJrwHEkuaPASzZDQURpZeOjiIx1hnhTrdmMjP03QQ0LnCVKl74atcEBy2MhloMeChbuynId0c6APPZy0NE+ST6Sht4FGGjvRL4BiAcqMGDlkAb5RP0WWCc25RbI6NNh+6ZBW1OzI7igy0AO9MzzBddKHLQgSmIjF/Xzr123sM7uc4TAoLfJ1FwSACAENNiIhryxD0LDoiSgFBJ0JFbXNBKQ3clXIvOHrUPCW6icaol/BAWgv70YgFmhuuyDbRyEcB8xXT404vgRZmgx7UjJUKGUp/GyzrAel4cGe6u9vJwvfTtHUnboECfjm2x6EFfAgB6DMUNd6zhdQRXtEc8AJARtBG3mf09BwtxCuQPkNHoRLPIO0xiTJmoVBEzCBssVmmLqkoKTzWUnxAAh/HCytJd0ClGtXMoq0jRNYx91pEfOkvb/JcqB/43nd50WJGRZZp2xItgTTGcMXQa0BE+HBMZwGLRfuplbQ3riNdTVjqF8AeRFlARYCuYmWRmkKZWw0SaCulx1O5z3N6h7I/YBbbto7CkmsFKCFhfUIhNrhwCNemLAJVCae8Yc4tesvOAn07SqFdttsatLZ0r+VjAMCSHDi/kT5AudAQ2AZKTBuu+ahtd2lWbdrij9Zr2qdSSk8cnn/dVEu3XUYSDbtcBTJBjvR2TWJHEpBYsPNxS51vEzqFMtb+oW4zea9IOE5CI/teWNv1LC0zoDPlHwNeL7d7wLBZxLdMxGGnCrus87VtZqisFR4WFgOrPo4GbaPMQpQan1oCUB2VpThQo7IZfpkP2dD7gHAC/AIVGEUGijJL4XSesFDUmlUppOMtZ9UUwfCjiGzvNbarqQ6c5sAjiDc1Dmel7BlxWYVzFIEv9NE2NGkQyIveithYexJQoQrWz7HoMJxSeHc2K76NXn2mBuipKcEAXKggrb+7d6Fh0muyWhboX1bjxJTWqRbO+u1IdRIHC2ftjteSnZLWGZCbxBsHxqPpigsRRMJyl9vUGEkv2lIZg5sDiNYfwX1It6C7AWedpOpSCCwp5RdXTgRmsRcXhttFc2lg4XjICxD80O/5JO07uRa6W8c65R86synecY9FmxmidpVBdt4tstOfqMR74g5EhVVSKql7wSdaaglDgxAE5QPk4oSg5St2UYpK1yPB2hXaqSyZwkI06rrM0kU8VKVeoox7CE9fIrg1QPgXVVP0Vgyz0a7wN8ESd3/me1RMkBFg5GFW8LyaGTzSHvJ4sQTqTvmpiP2Z2KGZsGihNf+IcS6qz63sV9Nk6kuJ4yqaaD8wYoO6OaWv7Yug8aJLRrdbUNi4UV1KSQrnSjPgLEOc07bQBMhTo3vvs7sHBSAIdhqpbeZjhW6JS49uBeEfZF5nWNZRGXjL1PN+S6IAFhKaTKLgAoLXg0HkKqNT9Qu7Bf2kCNFtgHZqwVl9Y6PpOmXaANNeZaPyL6IGjKaxD5+7kuGXBZKEQmrhMZ2VThaDvLxxaL7ROFs95wl7bOvBQml2UC36iBAhUhCKdzjWGvJGomLkhBWmaqleGgBThiRbE6eurSPqORIOiAPT35R68pcccaOdKeyOEG+AlEIRUKT3ER3SY0QPhaKcb6QjSe4y2Wg7fg9mE+9Fscm4gXruulZMKPQoiEqWl7cryM8KAl/VygJCjrzDxiZTtphTfmfXBl9CZzHSUqm/66gqJzUxzS3YXKENPY8AEaEcRllLd05znu2upk8X8yxmw+08OiX88+ubT2yP4HJQsuvVJZIkGfQOBtoDtveSYIFk7kskepVEFZjSSZPCWLMVaLJ3BU+RFXdtNB4oU2HLj3Y0iJITufwEe+ms6BrsVLgAAAYRpQ0NQSUNDIHByb2ZpbGUAAHicfZE7SMNQFIb/pooiFYd2EHEIWJ0siC8ctQpFqBBqhVYdTG76giYNSYqLo+BacPCxWHVwcdbVwVUQBB8gjk5Oii5S4rlJoUWMFw7347/3/zn3XECol5lmdYwBmm6bqURczGRXxa5XhBCmmsKQzCxjTpKS8F1f9wjw/S7Gs/zv/bl61ZzFgIBIPMsM0ybeIJ7etA3O+8QRVpRV4nPiUZMaJH7kuuLxG+eCywLPjJjp1DxxhFgstLHSxqxoasSTxFFV0ylfyHisct7irJWrrNknf2Eop68sc51qEAksYgkSRCioooQybMRo10mxkKLzuI9/wPVL5FLIVQIjxwIq0CC7fvA/+D1bKz8x7iWF4kDni+N8DANdu0Cj5jjfx47TOAGCz8CV3vJX6sDMJ+m1lhY9Avq2gYvrlqbsAZc7QP+TIZuyKwWphHweeD+jb8oC4VugZ82bW/Mcpw9AmmaVvAEODoGRAmWv+7y7u31u/95pzu8HtpBywk2q+OYAAA0aaVRYdFhNTDpjb20uYWRvYmUueG1wAAAAAAA8P3hwYWNrZXQgYmVnaW49Iu+7vyIgaWQ9Ilc1TTBNcENlaGlIenJlU3pOVGN6a2M5ZCI/Pgo8eDp4bXBtZXRhIHhtbG5zOng9ImFkb2JlOm5zOm1ldGEvIiB4OnhtcHRrPSJYTVAgQ29yZSA0LjQuMC1FeGl2MiI+CiA8cmRmOlJERiB4bWxuczpyZGY9Imh0dHA6Ly93d3cudzMub3JnLzE5OTkvMDIvMjItcmRmLXN5bnRheC1ucyMiPgogIDxyZGY6RGVzY3JpcHRpb24gcmRmOmFib3V0PSIiCiAgICB4bWxuczp4bXBNTT0iaHR0cDovL25zLmFkb2JlLmNvbS94YXAvMS4wL21tLyIKICAgIHhtbG5zOnN0RXZ0PSJodHRwOi8vbnMuYWRvYmUuY29tL3hhcC8xLjAvc1R5cGUvUmVzb3VyY2VFdmVudCMiCiAgICB4bWxuczpkYz0iaHR0cDovL3B1cmwub3JnL2RjL2VsZW1lbnRzLzEuMS8iCiAgICB4bWxuczpHSU1QPSJodHRwOi8vd3d3LmdpbXAub3JnL3htcC8iCiAgICB4bWxuczp0aWZmPSJodHRwOi8vbnMuYWRvYmUuY29tL3RpZmYvMS4wLyIKICAgIHhtbG5zOnhtcD0iaHR0cDovL25zLmFkb2JlLmNvbS94YXAvMS4wLyIKICAgeG1wTU06RG9jdW1lbnRJRD0iZ2ltcDpkb2NpZDpnaW1wOjI0ZmNkODE0LTI3NDYtNDJlYy05NzM5LTk1MGVjZGI1NWJjOCIKICAgeG1wTU06SW5zdGFuY2VJRD0ieG1wLmlpZDo2OThkNjgwYy01ZDRmLTQ2YjQtYTQ5YS00ZTIwYTgxYzZhMTkiCiAgIHhtcE1NOk9yaWdpbmFsRG9jdW1lbnRJRD0ieG1wLmRpZDozMTNmOWI3Mi0xZTk0LTRmN2QtODJmOC04ODZjNmNkMDZkMDIiCiAgIGRjOkZvcm1hdD0iaW1hZ2UvcG5nIgogICBHSU1QOkFQST0iMi4wIgogICBHSU1QOlBsYXRmb3JtPSJMaW51eCIKICAgR0lNUDpUaW1lU3RhbXA9IjE2NzE0NTQ1NDI5MDM2NjQiCiAgIEdJTVA6VmVyc2lvbj0iMi4xMC4zMCIKICAgdGlmZjpPcmllbnRhdGlvbj0iMSIKICAgeG1wOkNyZWF0b3JUb29sPSJHSU1QIDIuMTAiPgogICA8eG1wTU06SGlzdG9yeT4KICAgIDxyZGY6U2VxPgogICAgIDxyZGY6bGkKICAgICAgc3RFdnQ6YWN0aW9uPSJzYXZlZCIKICAgICAgc3RFdnQ6Y2hhbmdlZD0iLyIKICAgICAgc3RFdnQ6aW5zdGFuY2VJRD0ieG1wLmlpZDo4NjYwZDM2OC1iZWZmLTRhMGYtOTljYi02MzYxNDFjZTUzYmIiCiAgICAgIHN0RXZ0OnNvZnR3YXJlQWdlbnQ9IkdpbXAgMi4xMCAoTGludXgpIgogICAgICBzdEV2dDp3aGVuPSIyMDIyLTEyLTE5VDEzOjU1OjQyKzAxOjAwIi8+CiAgICA8L3JkZjpTZXE+CiAgIDwveG1wTU06SGlzdG9yeT4KICA8L3JkZjpEZXNjcmlwdGlvbj4KIDwvcmRmOlJERj4KPC94OnhtcG1ldGE+CiAgICAgICAgICAgICAgICAgICAgICAgICAgICAgICAgICAgICAgICAgICAgICAgICAgICAgICAgICAgICAgICAgICAgICAgICAgICAgICAgICAgICAgICAgICAgICAgICAgICAKICAgICAgICAgICAgICAgICAgICAgICAgICAgICAgICAgICAgICAgICAgICAgICAgICAgICAgICAgICAgICAgICAgICAgICAgICAgICAgICAgICAgICAgICAgICAgICAgICAgIAogICAgICAgICAgICAgICAgICAgICAgICAgICAgICAgICAgICAgICAgICAgICAgICAgICAgICAgICAgICAgICAgICAgICAgICAgICAgICAgICAgICAgICAgICAgICAgICAgICAgCiAgICAgICAgICAgICAgICAgICAgICAgICAgICAgICAgICAgICAgICAgICAgICAgICAgICAgICAgICAgICAgICAgICAgICAgICAgICAgICAgICAgICAgICAgICAgICAgICAgICAKICAgICAgICAgICAgICAgICAgICAgICAgICAgICAgICAgICAgICAgICAgICAgICAgICAgICAgICAgICAgICAgICAgICAgICAgICAgICAgICAgICAgICAgICAgICAgICAgICAgIAogICAgICAgICAgICAgICAgICAgICAgICAgICAgICAgICAgICAgICAgICAgICAgICAgICAgICAgICAgICAgICAgICAgICAgICAgICAgICAgICAgICAgICAgICAgICAgICAgICAgCiAgICAgICAgICAgICAgICAgICAgICAgICAgICAgICAgICAgICAgICAgICAgICAgICAgICAgICAgICAgICAgICAgICAgICAgICAgICAgICAgICAgICAgICAgICAgICAgICAgICAKICAgICAgICAgICAgICAgICAgICAgICAgICAgICAgICAgICAgICAgICAgICAgICAgICAgICAgICAgICAgICAgICAgICAgICAgICAgICAgICAgICAgICAgICAgICAgICAgICAgIAogICAgICAgICAgICAgICAgICAgICAgICAgICAgICAgICAgICAgICAgICAgICAgICAgICAgICAgICAgICAgICAgICAgICAgICAgICAgICAgICAgICAgICAgICAgICAgICAgICAgCiAgICAgICAgICAgICAgICAgICAgICAgICAgICAgICAgICAgICAgICAgICAgICAgICAgICAgICAgICAgICAgICAgICAgICAgICAgICAgICAgICAgICAgICAgICAgICAgICAgICAKICAgICAgICAgICAgICAgICAgICAgICAgICAgICAgICAgICAgICAgICAgICAgICAgICAgICAgICAgICAgICAgICAgICAgICAgICAgICAgICAgICAgICAgICAgICAgICAgICAgIAogICAgICAgICAgICAgICAgICAgICAgICAgICAgICAgICAgICAgICAgICAgICAgICAgICAgICAgICAgICAgICAgICAgICAgICAgICAgICAgICAgICAgICAgICAgICAgICAgICAgCiAgICAgICAgICAgICAgICAgICAgICAgICAgICAgICAgICAgICAgICAgICAgICAgICAgICAgICAgICAgICAgICAgICAgICAgICAgICAgICAgICAgICAgICAgICAgICAgICAgICAKICAgICAgICAgICAgICAgICAgICAgICAgICAgICAgICAgICAgICAgICAgICAgICAgICAgICAgICAgICAgICAgICAgICAgICAgICAgICAgICAgICAgICAgICAgICAgICAgICAgIAogICAgICAgICAgICAgICAgICAgICAgICAgICAgICAgICAgICAgICAgICAgICAgICAgICAgICAgICAgICAgICAgICAgICAgICAgICAgICAgICAgICAgICAgICAgICAgICAgICAgCiAgICAgICAgICAgICAgICAgICAgICAgICAgICAgICAgICAgICAgICAgICAgICAgICAgICAgICAgICAgICAgICAgICAgICAgICAgICAgICAgICAgICAgICAgICAgICAgICAgICAKICAgICAgICAgICAgICAgICAgICAgICAgICAgICAgICAgICAgICAgICAgICAgICAgICAgICAgICAgICAgICAgICAgICAgICAgICAgICAgICAgICAgICAgICAgICAgICAgICAgIAogICAgICAgICAgICAgICAgICAgICAgICAgICAgICAgICAgICAgICAgICAgICAgICAgICAgICAgICAgICAgICAgICAgICAgICAgICAgICAgICAgICAgICAgICAgICAgICAgICAgCiAgICAgICAgICAgICAgICAgICAgICAgICAgICAgICAgICAgICAgICAgICAgICAgICAgICAgICAgICAgICAgICAgICAgICAgICAgICAgICAgICAgICAgICAgICAgICAgICAgICAKICAgICAgICAgICAgICAgICAgICAgICAgICAgICAgICAgICAgICAgICAgICAgICAgICAgICAgICAgICAgICAgICAgICAgICAgICAgICAgICAgICAgICAgICAgICAgICAgICAgIAogICAgICAgICAgICAgICAgICAgICAgICAgICAKPD94cGFja2V0IGVuZD0idyI/Pu/dkg8AAAAGYktHRAD/AP8A/6C9p5MAAAAJcEhZcwAALiMAAC4jAXilP3YAAAAHdElNRQfmDBMMNyrJM9fJAAAgAElEQVR42u2deXhcV3n/P+fOjHbJ+xZvsZw9URLGjrOPrCxlnAVIFELYyg6NCdACpZCWspTCr5SWpUVhL4U2JSRyFkg8hBDZQwIktockyr7IjhPviyRrl2bu+f1xrmJJkTUjae7MvTPv53nmsTUa3eXcM+d73nPeRSEIeSLQ3BK0oVLDMuB0YDkwE1gEBIEjwGFgD/Ay0KrgYAD6k40NKWlBQRCKGSVNIOQSq7mlxIYlwJuAeuA8YJ7TF9Ux+qR2XilgJ/AI8BvgwQDsTTU2JKVlBUEQARcENzpac0u1hsuADwINQHkWDnsEuB/4qYK4bmzokpYWBEEEXBCyI9yVGq4CPgmsBiwXTqOBBPAdBffoxoYOaXlBEETABWEKlG9oUX2aC4AvA2tdEu7x+DPwFQvutRsbBuRJCIIgAi4ImVvdMzR8FrgJqMrDJaSAe4DP09jwlDwRQRBEwAUhHc0tpwFNGAe1fLMf+KoF3xNrXBAEEXBBGIcZGzapTq3fCNwCHO+hS0sBdwJ/TWPDLnlSgiCIgAuCQ+WGTapH63cB/wnUePQynwU+SGPDw/LEBEEQAReKnrLmFqsfPgp8Daj0+OUeBj4WhNskEYwgCH7HkiYQpmN598P7ga/7QLwBZgM/TsJfW80tIXmCgiCIgAtFx1yzbH4D8C2gzE+LBsC/2HCziLggCCLgQtFxUOsLgf/wieU9lgDweRFxQRD8jOyBC5OnuaUWk4v8BJ/fSQr4Jwu+ajc2DMmDFQRBLHChcGd8zS1VwHcKQLyHLfF/sOFzoeYW+S4IgiACLhQuGj4BrCugWwoCnxuCD8jTFQTBVwaVNIEwlqbWtgAwH1iAqc+9DAg93d5+2n/u3vtBlFWDUqAs04WU5fzf13QA76Sx4T7pAYIgiIBnyOq165Rt6zXAHHkk+WP2siWldZdcVl81a9aaQCi02LICc5WlKgBSWvP73bt4qqvz9V1oWMxVCAIhUAFf3r+VSr4855GHPxt6efuRY3ykKxCwHtrScp+W3iIIggg4sCoSDWl4AIjII8kv2rbRenx9slQRLNhYE64kPKWUOmvb5o2SBEYQhLwT9NC12PI4PDCjsyzZV5E+KgiCH+wNaQJBEARBEAEXBEEQBEEEXBAEQRAEEXBBEARBEAEXBEEQBCFfBH10rVuAdnlk6QmVlQUXnXLyG4LB0KypHqM7OcTO7i7QuQ15tqwgKk9x5Co5RHDHdrDF2VwQBBHwbPLpRDwWl0c2MRu1tnY8teMzGi6aznFaDx4gtmtnzgUcFYCSGrBy3zVn9nRR+/MfwsCgdCRBEETAszm0y+OamKbWNmv7k9s/AnwZmHKZTFtrHjl8MPfiDaBTMNgJoWqT1S3n55d+JAiCP5A98MLiL4CvT0e8Afb29vJCX1/+7kLbMNQFdtJjU0hlEQhILxMEQQRcyKr1fSLwfaBqusfacaSTLp3nfWBtw6C3RFxXVS3c+c7310hvEwRBBFzIlnhXAt/DVA2bFkmteaLTI76COgVD3UbMvXA5FRWz2mtmfEh6nCAIIuDCtLmltc3C1OhuyMbx9vX28tyQh5y47CQMduOFzWmtLMtW6uM0tyySnicIggi4MD1RgTDwWbLk5Le7u4sBr4VR2YMw1OuVqzkOeL/0PEEQRMCFKdPU2lYO/BtQna1jPvu6et8eIdkPKU+sDCjgfaq5Zbb0QEEQRMCFqfJu4MJsHax9cJBXBvo9eqsahnq8sh9eq03bC4IgiIALk7a+5wOfA7IW19Q70M+ryaR3b1qnjIh7xwqvlp4oCEK+CPrtgqs3bFLdWldpqBxz/QoYVNBXpVRX17VrCz0lx4fIgtf5SF7u6fH+XacGzStQku8rOV3DG4E7ZBgRBEEEfAJ6Vq9ZySf+7owureuBE4D5QPnYj2k41KX1dppbEsAmBU/pxoaCyqHe1Nq2EPgwWV5BebW32wd3r41DmxUCpfL93flwqLllw1BjgyRPFwRBBHz8MVtzaOVJtwDpzK7ZwFLgbOAawNbwDM0tzcBPaGx4uUCe2wec+8wafakUhwcG/HH3OgmpfgiW5/tKzh8yUQBbZSgRBCHX+GgPXJVM8f5OB/4R+APNLV9UzS0zfW59zwLeR5Zzw3cPDvJEcsg/DZHs84JDWxXwLhlGBEEQAXeX44B/1HA/zS3n+vg+rgZWZPugvYMD/iqjqW0TWuaF59HcskCGEkEQRMBdNuOBc4C7aW55qw+t7yDwwWw/NwXs6O3139NM9XvBCq8F6mUoEQShKAVcWzl3RloA/IjmlhtmbtjkpzKlZwNvcOPAnQN9/uu92oaUJ/bt3xVobgkiCIJQbAL+/AfWnzK4cNEZOT5tDXBLh9aX+eh5XUMWqo2NZcC26Rgc9GcPTvbnp275aC5KZdmpUBAEIR35txqaW07ote1mu6xsbh7OPhP4Ac0tl9LY0OblB+VUHLvSjWP3JpM8MTTkzx6sUyZXeqA0n1cxC1gHNPl1IFi99gpl2/Z1GKfPsSjgR4l47JVcXEs4El3t9HU14vw/TcRj22XIFgSPCLhqbpmt4X+AE/N4GccD/66aW96uGxu8vI58ivPKOqlUkt5U0r+9ODngJHbJ627IdVZzy4/txoYBPzahbdtVwDc4dnKgFPDlHF3OKuALYx7oZkAEXBBGkLcldKu5JaThFsALHuFv0nDDXG/vh68DXDEz2wcGvLAMPQ31GfKCB/25dpYz4+WYizGRGsfiqnAkWoUgCCLgNtwEXOuRdlDAFw5qPc+LD6mptS0EXOLWjb/c1+vzbqy94MxWQZZqsueac9ZeoYBGRq/IbXes7mHeAJwsQ6YgFLuAN7e8Afh7vJUJbhnwsQpvWuGLGH9vMhvSx9DggP97sj3o3E1eudJqbgn5relStj0LuGL0/JpvAU+NeC8IXC9DpiAUsYCr5pZy4KvAHI+1hQI+0utNK/wsTO73rDNk2xz2qwf6KAFPemEZ/SLbpPP1G5cBI51IDwF3AvePnaCEI9EaGTYFoUgFXJtZ/OUebY85wHs9eF2XuHXggVSKF/zqgT6uFZ5XZgNrfNhyb2X0atgjjsf5XcBI78ZTgToZNgWhCAVcNbfMBf6OLNawdqE9PqiaWyq9ckFNrW1lwGq3jp+yU+xLFoiApzxxH9Gy5hbfJAcKR6KLgbUjW5GjJVKfBJ4Z8/14++q164otg6MgiIBrU0XrVI+3yfEaLvXYqsApbh38yOCgF9KRZskCH/KCN31k4PVlbr3MpYxe9u8EHgBIxGOdwG/GfH6dbetKBEEoHgFXzS3zMQLudUJ4y1lnBaP3J7PKrv4+8hw/nd0pop13K/xkDUt81GjvHDMOPBywrN0jfr4bGNmoxwMRGToFoYgEXMObyW/ClslwGWa53wuc5+bB+wYGCqtH23lPSBPEJ+Fk4Uj0REzSlGFSQPOWTfeNXMZ4HHh+zJhx3ar6dQEEQSh8AVfNLVU+sb6HmeOFQbiptc3CRaeolNYcGSw0Ac+7Ba6Ai0LNLX4QuEsYHQ3SxZgl80Q81gVsHPN3b9RaV8vwKQhFIODazPLP8VG7BIGrPHAd1bgU/w0wmErxXCGEkI3qbCk8EA++Jmm2YjzLqvp1Fmb5fCSblVIHxvn4PcDImd4CICrDpyAUuICXNLcMDxR+81yNqOaWfFsZ1cBK1yxw22bHUKEJuAY7le+rWO71fXCt9anAyAqAKeDWbZs3jtd4W4Cnx4wbb3EmAYIgFKqADxkP13U+bJuF2qXa25PgbFzKfw7QPTToheQn2ZYmxwrPK0G8v+L0RkwVtWEOA78d74OJeKwf+PWYty/XWs9FEITCFXBtnLCW+LBtyoDzPSDgrrG7v78we3X+LfAAsKbGo8VxwpFoKfC2MW/fr5Q6MsGf3Qv0jPh5JnC1DKGCUKACHjLL59f6uH3y5sjW1NoWxOUVgB7fFzE51qwx5YWrWNWrtVeXmE9jtG+FBu46xvI5AAr+DLw4Zuy4drUphCIIQqEJeNJUaPJzzOipmPj1fK0AnObas7FtdhdaCJm3BPz0lHcTujQCI5OxHABaJvqDbfHYIMaZbSQX2LZ9vAyjglCAAq5NBjE/f8EXAifl6dxzgVq3Dj5k2zzc31egAu6Jff0Knb++c0ycmt5jfVLuV0p1ZPDnY5fRa4ArZRgVhAIUcKAe/3mfj6SE0YkucskqXAxF6k8mSRZKDvTxpo75F/EQLoYAToMzGO19DmmWz4dRim3AS2PGj+vEG10QCkzAA80tQYwDm9/3yC7K9QlveXK7AsJutt0rvT2F26u1J6zwAC7msJ8G1zsT02H2AvFM/nDb5lgSU6FsJG/QWp+OIAiFI+C2sUDCBdBGp+S6OpnWOuim5a+B7r6+Au/a2gsX8YYqD3mihyPRWcBfjHn7AaXU4Ukc5l5gpPdjDf4MExUEEfAJhs/5wOICaKPFeUjKUerm5Cdp2zzTV8AWONoLVckAThnU2ksrUGfx+mqAd2ayfD6MUioBPDvm7WtXRaIhBEEoDAF3BChYAG00Czghx+c8k9FJNrKKbdu0igWeC2YOwjwvXMiahisVcMOY73wbGS6fD7Nt88Yk8MsxDXy6B5IeCYIIeBY5GX87sI3k3Byf7yLMHqor7OrrJWmnCrtne8MCL8MjFfiSqdRsXl/nflMwEDg0hcP9Ghg5A6xCcqMLQmEIuJP//FQKp9D06lydqKm1LQBc7GbbHe7pxpa+nwtKgWUeuZYLeP1K0i8fbbl30jMdpXgOaB3z9rXhSLRCHrkg+FzAU+a4JxRQO61UzS1zcnSualysAZ7Smq1dXdLzc/f9qs33RTi1u68b8/ZLQGIqx3O80e9k9DL6KeQv5FIQRMCzhfbIwJVFlmqT1CUXnAfMcOvgvUNDbO/vLfyerT2zxrAy702h9RzgsjFvb07EYwemcdi7GV1itBR4swypguBzAbeNAFUXUDuV42Ja02Gc+O9LcTGBy+6ebrptWUDPIcd74BouA44bPcfmjukcUBkHuD+PefsqJ1RNEAS/CjiwCBedsPKE6zndtdYh4AoXj8/zRzq94Z9dPCyr2NCSN1+QVfXrgsBbxrzdBmydznGd3Oh3M3oZ/QTEG10QfC/gCwpQwM9SzS1lbo+3wAq3Dt6fSpHoOlIcPVt5xn+yslczJ18n11rPJ/vL58PcBQyO+DnA68uUCoLgMwGfS+GEkA1zosb1gfh6XKxgtbOriwOpVJF0bc8IeJkzoc0XV2Bqdw9jA81ZOvbLwJYx710ajkTnIwiCbwV8TgEK+EJcdEhqam2rwcXa6Rp4vOMwtiyg55pS8pTMZVV9NAhcM2Y2sx14NBvHT8Rj/eNMBlaSw7BLQShm3MqUVkbhxICPZC2TzFw1Ca7GxdSz7QMDPNMt4WN5oASYnY8Ta80yXu+78TugN4sx2w8A/c53fpi3r167buPWTRtltigIPhTwmQXaXvVWc0up3dgwkGXrOwh8BBf9BrZ3tLPPThVPz1aeWQCyyF861auBsYV43g/8ZTZbmtHVzQAabFsvAnbLECsIPhLwWRs2qXatawq0vcK22d/fleXjXgac49ZFD9o2f2w/KL09f+RcwFfVR4Na08jrV8KCuF+jYDFwPtnbaxcE4RjWgTC5lYWs1gdvam0LAZ9k9BJkVtnR2cHTg4NF9JiUlyxwGB2DnRO0zntmtHc6e/CCIPjFAi8Crgg2t9yRbGzI1nr01UC9Wxc7ZNs8fHC/V4p7FCtz83DOqxkd0WADh3GvTFs5pqjJMPVas4Dsr1YJgiACPmXWJY2X/f4sWN+zgX/g9XuI2bO+j3Sypa+3+J6StyzwnPqErIpEQxreyujl86eARpcEXAOXA7eMeG82sA74kQwZgiAC7iVrah3w39M5yC2tbZaGT+Ni5qoh2+YPB/YVn/WtlJcSuUDu8ugPq+kqTDnfkQL7y0Q89oJb5wxHoj3A5xhdfa0xHIn+LGGytgmCkGVkD3wK8gC822pumZbVrOGNwCfcvNAXOzt4pBitbxQei2IsyfH5rgBGhol1AxvcPGEiHtsLPDjm7YtyPXkRBBFwIR0X23D2VP+4qbXtFOC7YwbZrNKbTPLgvj3FufetPNety1Rzy4xcnCgciZZjls9H8rhS6rkcnP7/YFSp+SrMsr0gCCLgnrKobgo2t0w6bruptW0h8FNczHkO8NiB/Tw10F+cT8d7Am6Ru9oAaxhdAc0GfrFt88ZcJAF4BBg7UXhzOBItlSFDEHwg4O3XrtVAMQQdNybhjEmK9wLgF8C5bl7Ynp4e7jq4v3h7tfcEPKBNStVc8GZGhyR2Affl4sSJeKxznHOdByyXoVYQ/GOBF8PGawXw95la4U2tbSsx1Zvq3byogVSKB/e8SncxZV17nYB7rhBeKVDt9knCkehMR8BH8nul1M4c3uvtQN+In0uAt517yZUKQRB8IeBHeG0vTJuXPsZr+Pf+5OokXJpGuK2m1rZ64H7HGnENW2se3beHh3u6i7tXK0/uDOVCwM4Flo74OQXclqPl82EeA54cc99vHkqmQjLcCkJ2yUoY2S1Pblda6wpgFlD3p/0HIj87sF9hpxyRtkeI9esHWq0VKe1Li7EM+LpqbtmiGxvaxxHvmZhQsb/BRYe1YV7saOe2Yl46H9YLFSjWm38bMFIoO8jR8vkwiXhsIByJbmB0auAznFdChlxB8IgF3tTaNrupte0vtNbfBDYBLwD3Lqgoe2cwNaCwh0AnQdvjW9naNi97CK3tCc+VSvVDahB0ymue1WdquLmkucUa0S4VTa1t1wAtwM25EO/dPd18d9dObMm45kULPIjLe+BODe6GMW/fp5TqzMP93gOMnNCWAtfJMrog5NkCb2ptCwCnA+8G3gKcMPYzFYEgVUrRkTUxUUbAB484PwbACoAKghU0/8fKV/IOBdxkw59+8NSO3yVte61jcV9IjjyP2/v7uWPnDoZSKenRyvJaEpdhAXN7D/wCRjuL2cAvc7x8bqwCpZ61td4C/MWIt68ZSqa+BAxIJxWEHAv4LU+2Ka1Z7YjTmyeyKquCQSow63euoFOQSgGDRzV0WNStoCPslmOJuT2Ya7BTZUl76Acvdx3Zs7iy6vRcPsD2/n7u2PESzw7KuGjUo2iTC759TGffDvw+HxeydfNGOxyJ3oFJrzp8TSucSUaLdFJByKGAN7W2LdGaz2HqCFel+3x5MEipZYFt5+g2tFmqTyUhNSxkliPiAUfcg4515oj6VK00rZ2l/xSkhkAPgZ0C9Ox7X905+/rjVzKzNDcRQ/t6e7l753YeK9Z473Et8OLb/w5HokuByJi3Y5ZSXXm8rPuAQxwt5FKKSeqSiYCPl0pPlt8FYTIC/r0ntytb67cA3wBqJ3PgklApJJN5vDXbmUAkR48ByhkbhsV8lKhb40wM9NG9ep06+v9x9vQf6++j5OU2rl62gjllrlUHRWPSpN756k52JIekFxe5gGNSpd40RuS2bt280c7XBSXisV3hSPQdwMgMdAcy/PP7GZ1NTgGt0rkFIUMBb2ptK7O1vhn4FJN0wlJKsay0lOf6ejx2u/qoA5xLXu+P9vVycMdL3LBkGUuqsr/tOWjbPH5gH7/cv5ce25YePBar+AQ8EY+1A80evK7fTvHv2oA26cyCMAUBb2ptmwF8E3gPU/BUV8DSkuLNntg20M9PdrzElfMXcdbceQSt6XtFa0yGtU17dvFQT5f03GP1PCsgzSAIQnEKeFNrWwXwPUxM6ZT3nSpLizv98d5Uih/v2cV5nR2sXbiIJVXVWFPYd9doDvX3s/XAPn7f0U67WN0TWN9BPLpVmkS8rwVBcFPAm1rbgsBXpiveAJUlpZQqxUBRxyVr/tTbTev2F1lVWcXZs+eyrLqGskBgQjG3tWbQttnV3cWT7YdJdHVyQIQ7AwH3rPU9gMlJLgiC4JoF/i7g49kwY+aVlVFd9AJu6NGaeHcXD3V3My8Q4OTKKk6pqKCkpJRQ4OgjGEwlGRzo59m+Pl7s7eZAKkVS2i9zVFDaQBCE4hPwpta2E4GvkqXkIyWBAOWhUhjok1YetqzR7Esl2Xekg/iRjtfFyoiNPV0LXARcEIQiGvIc8Q4C/wAsypoxBJxZXi4tPAFOlvjXXsI0u7J3Q8hSgATrC4KQfQEH6hgddzn9AyvFsopKaWEhd9a38myujwEle+CCIGR72GtqbbOADwFZN5erysqRoB4hZwLubcSZQRCErFvgM4Fr3Dj4ovJySiUuVxAB7w9BpzwkQRCyLeDnA/PdOHjQsjhZ9sEF11FeF/DkYGODuDkIgpB1Aa9nmnXBJxLwsyqrpJUF961v5elaF3vkIQmC4IaAr3bzBHMrq6WVBfcF3NvFqsSBTRAEVwT8BDdPcFxFBYGA7IMLbvbikNevcL88JEEQ3BDwJW6eIBQIcKksowuuofzggb5PnpMgCG4IuKtrjwGlWFZVIy0tuNSDPb//LRa4IAiuCbjr1NbU+GGQFXzZg0N4fP9bLHBBEPwr4JWhEi6qkGV0wQUCnt//HgAOyoMSBMENAe92+yQhy+KEallGF7KMCng5//lIAT8gD0sQBDcEfEcuTnTijJmgLGlxIYu9N+iHPiUWuCAIrgn4c7k4UVVJCZFKKW4iZJFAiR+usi8gFrggCC4QBB4DGt0+UciyOH3mbOLdktNCyAJK+aX+985UY0NSHlh6wpFoCSats52Ix3ZLiwhCegH/I6Zeseubicura5gXDHEgOSQtL0xTwIN+2P8GaJOHdZRVkWhIw0LgOGAxcDwmmdSJmJwUM4Dbzll7xSe3bLpPKrj5awIWBW5K87Fu4OOJeExCK7Mk4Fsxe3QL3D5ZTUkJ51XX8Kv2Q9LywvTwx/I5wEtev8A1DVeqZCpVA1QApcAsIMnRvfuBRDx2+NxLrlKPPPjrKYuqI94/AK50zlXB+DGAFaLcvmSZ82wnoh0XSlcXs4B3A78F3pWLE545ew6/6jgMWr6iwpTNb7B8IeC21yzwVfXrAlrrFcC5wBrgjGQqtRyowfjEBJxxQQODzp/pcCQ6NJRM7g5Honsxjq8vAi84/263lEpu3bzRTv/gWADMkz4sCFkQ8PV1tamm1rY7gXeSg4wY8ysqubCikod7uqX1halhBcEfdeYHgO35vohzL7lKDSWTM4DrtNbvBc4Gypj8ttmiMT8POSJ/yNZ6WzgS/UkiHvu1dFBByNFQ6PzbkquBJmRZnDNHJuDCNPDP8vkAOQrTPBbhSLR0KJl8L2ar7PvAhUAl2fF5CTnHWgZcA6ySzikIORbw9XW17cDPc3XSpdU1nFlaJq0vTAHfLJ8DHCrJYy3wcCQ6H/gZ8ENgJe5nXtwu/VMQcm+BA/wY2JuLk5YHg6yZM1daX5hCj/XN8jnAsyVK5cXZIxyJLgTuAq4nBxEmmP3+V6SDCkIeBFwp9SrGQzQnnDRzNieGSuQJCJMj4Ks+80T3tWtzLuDhSLQUaALOy+FpjyAJawQhPwJ+4xkrtPOlfz4XJ64Khbh47nx5AkLmKOUnAU8BT+Xp3O8Fria3Zdq6kZSxgpAfAQdYX1e7D/gixrvUdU6fM5dTZC9cyFjAQ35J3gLGO/vJPFjfs4FPY0LBckmXAknwIAg5ZLwveTNwBTmICy8PBLh03gLaXtkhT0LIoLeW+ulquxQ8n4cN8DcBtVP4u70Yh7t2jsZ/A1RjkrvMwMSKzwLGWwbZsy0ekxSLRT7FnqzRKGRZwNfX1Q42tbZ9FhMreobbF3DyrNmED+7nsDwLYcKhwfKT9znAEwEYzEMS9MZJDJKDwN3AT5zVgk5LqZ6RCVmc/ORBTNa0ckzY2FxgBXAScDLGwz0hnbTouR34Q5rPpFQeIzOKwQJnfV3trqbWto8CdwKzXb0Ay2LtwsXcbcnETJho3l5i9sD9w9YZStm5XFN2ls/rMvx4J/BRpbht2+bYMecZiXhs0BH63jG/emjEeaulgwqJeOwwiC2WdwEHUEr9Xmv9KeAWTNYm11hcVcWi0jI65HkI4/dGCPrKVyIFbDmUew/0ZZgl7kz4cjAQuPXRlnunfY2JeExKDApCPuyaY/3C8Ur/GfDPuOzUpoCKQECehnCMXhrwS+nQYYaAR/Jw3nlAVQafexH4eTbEWxAED1rgAOvrau2m1ravYcr//RW5SQghCKMJ+C5S4TkLDtq5P28Zme1/P5qIxwo+Ztsp3FKKqTF+ErAU45C3AJN4Zj/QA+zEhM8etixrYGsWy5g61xDEpJ2dhSmhOtcZUwPOvxZmi+IQZrtiFyYF716lGNy2efrOgavq1004dluWsre0HPu+ndwCpwNViXgsPt5nVq+9Qmmt0/a/bZs3pjK55nTHy+Q4q+qjIa0ZrjN/AkdL1s7G7MXvBrYqpfZt27wxay4rTv2BEozfyIkjnnsVR6v97RvT/44opQYncRqd1qxxip180jGUPyIiLuQUf8V+D/NICIYGvHt9rYXcZcKR6Axgrdb6GuBiZ9AOOGPY8AtMxbXhVxJ41rbtlnAk+jPgKWf/f7JCGdRazwBOBc7VWp/FUUe/mjHXMPZaRl6TDRzUmq3hSPQBoNlSak8GFd/GH+m1/pIjYOORTKX0vwKPj9OWM4E3Ax/AJAa6ExhXwG3bvgT4UJpL6Q5Hop9NxGNpcwbYtn0Z8MERbTOSPavq131q25j2WF2/zrK1rgJOAy7XmnMxDtnznYnSyHYfbuc+rfXd4Uj0i4l47MXpTZSiQa05eSiZvBZ4I8YnZbhs7vBkRI3zrJPAi1rrp49xv+Px+4zWJR3P9L8B+jEF2yWFmpAj67vUeKD7Bw38fqCxwfbwNe4vUOEuB96KiYM/g/RhTSMFNACc5bw+CvwqHIl+IRQMPPXIg5lvNTiThu861tZkvC7VmH8DmOpvVwNXAf9ga/2jcCT67UQ8tm8KzXM5pnzssWgZKeDhSHQWcAPwcWcCMnxdyyc4xkrgbUdkVdUAABktSURBVGmuox34JzJL+nMCJhXweBzRWv8X8IRzvTXAGlvrtzr3uiwDY1M5n6nCVOOsD0eib03EY3+abOOes/YKlbLt07XmZkxhn7IMn/mwsAedPjuZyK+hjEfG9XW1g8BngC8DfaIsQg7Mbz8unw8Cm30wySg08V4C/B/wU8fqmU7IQgi4FmgZSqbetap+3WRmkL0YXwSV3S8C84DPAbFwJOpGeO8JTjuWhSPRa4FNmMycp4y5l+POWXuFF8JBaoCLwpHo8nAk+rfAw8BvgA9jQhynslK8BLg1HIkun+Sqi5Wy7fc53/u347LT90gmZdqsr6tNKfiaM0NtF4ER3O2dvipcMsw2S3KC51q8jwd+jVnqzaa4zAV+oLWeTFKr5zBRCG5xNnBbOBKtzfJxTwlHomcDv3ReZx7jc2Up257lkUf/WeCPwNcdyzUbS3UrgJsz/fDqtessrfVHnFWX2blugEnf8I11tbal1E8xCSPaZPgQXCNYTm7TeWeFh2YqNSAPL2fiXY2ppHiWS6coA/4tHImek+HnOzCOUW5yGvDPTpKdbHEJ8ABmyX6iWXMJxgnQCyzFbDNkm7dkaoXbtr7AmUDkY6lwaEozlr86Y4VeX1fbAqzDLLUIQnZRQbBCfrzy3xzOQwWyYsRZyv0Y0ODyqeYCX8pQMHuBV3Nw+9cA52bxeDXAnAw+N+zVX8jMAy7MYPJYDnyFzEI3s0ESeAb4H+AvgS9Na8lhfV3t844l3kSOCqAIxWJ9l/kt8xrATgWPycPLDSnbXohxsspFR2nIZFBPxGO95GZlshR4Tx6aPZSh0PvafAAuyuBz52f4uWzxe6A+EY+9OxGP/TwRj7087ewY6+tqDze1tn0Ck7jiG87sJctoTiuv5E9KgRbjpvCtb8uPoWMAm4LQITPZnHH9JKzBPcB9zji13Rmkl2BCo651rOyJKMN4KrdkcK5nXxu4jMf/q85rD8Y/YvcYg0djlqVPBC5w/s3EuDo/HInOSsRjufRHGo5dL3ROmuiXq9eus2xbN5KZs9xB4Dbgt8ALHC0WNBMIO6spl5G+guDZmOJCr/nYZCW91fq62uQtT27/udb6MeD7mKWdrM6KL114HCdWVXHXvj10aVuGrkImUOa30LFh7hvydvhYwbCqfp2ltb42w3HmbuDjlqVe2bppox49EF/xU9u2v4nJOplun/uicCQ6MxGPpcv6fKdjhT/mCHi/Uqo/k0QhTgz7BzAZMNPtq9Y61nCuBLwL4+D2oA+6yHB89XZM5sEDziTpfEcE0zHhJMW2dYkz+UvH48DbA5b17JbxEwRtDUei/40Jf/wepljQsZjlWPxtWRVweC316hNNrW1vxNQU/yhZjBcPWhbnzl/AorJyfr7rZfYMiZ1TsNa3v8qGDrMfs8Ql5GJ01noux/aUHsmfgQ8k4rFx68o4WdeeDUeiH3Ss64k8iZcAx5NmmyQRjz0FPDWV+0rEY52r6td9S2u9GPhkBqsCyx2BcpNuzL7rt5RSL2aaSS1Poj0IbAXuAjZitrUGUCrpZMRb5fwu3cpNeTgSrUzEYz3H+H0JJsRuIlLATYl47Jk0z3xgdf26W22tLwBuTHPMNc5kE3ChNuv6utojwN9ilrd2ZPPYllIcP2MGH195Mm+cMZOQ//ZIhbTWdykoXyb72xQyqRGF3HA6Jk1lOr55LPEeM4g+gQlJmohKR8BdxckudgeZ5dtY6uKlDAK/AC5SSt2UiMee86h4246F/S3HKr40EY99IxGPPZWIx7q2xWOD2zZvtBPx2GAiHvsjcH8mI1EaA3RJBgbqM84EMi1Ohr3bObq8fiyWjUyL60qFiPV1tSng7qbWtj8D3yZ9aMKkmFFaylXLazm5/TD37NvDjkGJ2ikY69t/iVuG2TDU2JCSh5gzFmMcqiailxFlTzNgC3BlugE0R/fXBgxkMElx4wuTwtR3v1kptSmbOcJdoBcTxvXDgGXt2ZJZHvtsGJaZWI8vKsVk0vG+jPE0n2hiUOmsJKRcE/ARQr6zqbXtbcAngM+T2d5DZoaaUpwyew5LqmtoPXiAzYcPsDOZRPC59W350vp+GQmnzDUzSL+CuA+z/DuZ55iOnCTrUEod0FrnY59wD8YZ+fsTLB97iT3AtzPwSxhJLj2htZvX5XqNRicF6782tbZtwYSbnZrN41eFQpy/6DhOmzOH1oMHebTjMC8ODSKI9Z1Dfkdjgyyf55ZMOssgk8uKlslS3rwCbtPHgbcm4rEXpHv5g5wVWV5fV7vJcXBrAq4gy/vvM0pKuei4xZw1bz47jnTwRPthHu7rBVucgsX6dpUkcKs8wJyTSTawELDCKcyRrWNWFnCbbhfxFgGfSMRfaWptezumGs1HSb+HNWmqQyHq5szj1Flzuby/l+c6O2nr6uSR/n6Q8DOxvl2wWhQ8ItkJPMnxmJCnTB9PSJpMyCKuDwvBXN/R+rra7qbWts8ALwFfJYv74qNuzFLMr6hkfkUlaxYs5KqBAV7qPsKB7m4S/b3sGZRldrG+s8L/6saGbnmInsTCpAjNK6vq1wW01sdjQpeqyMABSmutkLLNnjY7MvjMcVoTwqzSZcI80q9Mp0ZODIL5uPP1dbVDt7S2fVfDXkwVF1dz65ZaFqXl5cwpL8eet4C1ySF6Bgd5uaeHzt4eHu/v46WBAbHQ82V9B8v9evX7MElCBOF1hCPRU4B3aK2vxIQdzcCkQBX8z5EMLOwzMFELz2V4zGgG/WN/Ih4bzKuAA9xYV6uBO5pa2w5iqgnV5uK8FlAZDFEZDDG/ohINXJRKkUql2Nvfx8G+Prr7+3h6oJ9nBvplD91167vcr1nXAH5NY4NU5BNGW9yRaImGmzDlLudJixQkhzAe8BOFFVYC/xqORN+biMcOp5nsXYQpzJPOsn9+5A/BfLfC+rraTd94+LFrBrp7fkf6fMSurIOUBQIQCLCypISVNTOwteZirUmlUrQPDrKvr5e+gX6e7OvjpYE+BpJJhshtLEJhWt8Bv2ZdAxOe9EN5iMIo8a5fF9Raf94R76C0SIEOXYoBrdlG+rwAVwG/C0eiPwYexeTBbwcqMNs7J2Lq2N+AyY2ejk2eEnCA//vcZ59BqaeBiBeux1KKEqXAsigPhTiu0ljqa2wbrTXtg4Mc6O+jo7eHRE8P+wf66NCalBRamRzBCj9b378PwlbJPCCMRGt9KSYTpYh3AbNtcywZjkR/BbwljdWsMEVIvoPJrDeE2ce2MMnNSsnc1+FZ4EnPCbjT8T29Vq0w+dgB5peXM7+8HD1rNudpzUAqxe7eHtp7etjWfYR9/X0csG1k8X2iWVIIgr710RkEmpKSeU0YQTgSLQU+hexzFwsbnMlaJrlNlGN1T4cfjV2Kl1niNEU9oBQVwSAn1MyAmhms0ovoHhpiX083Tx/p5LnuI7ycTKFlwX10ywUryE0ZZ1fYYsH9MkHzPAcwTrK9WfzKPznB75cAF0uzFweJeKwzHIl+CVPoxW0t3Qr819g3RcCzbVgqRU1JCTUlszlh1mx6k0l2dR3hsfbDPNXbzYGUGG0ESiHg25DbQeAbdmODn+MQZxRAL8pkRnwY+I90DkRZ5OIMre/9wO+AV9JMFj6aBatNcNMUUWzQmv/ApAt3az/wFeCD4/VjEXCXLfTKYJCTZs3mxFmzaejv44X2w2zraOeZYi3AoiwIlfv5DrZYcK/Pre/TCsS6zobIZ5OTSL+stBu4PBGPPT3Rh5x65+8VAfc22zbHhsKR6N9j9rf/hswq5E1mkvoEphzu4+MajPIIcifm88rKuWDRYt5/4incuGQ5q8uL8LsZLPdruVBUcmggmEr9k93Y4NVi9Jn61F0QjkRrfN6TMim1WUWOsqs5JR6XZPDR5oBlPSMjYuGQiMf6MNlFN2TxsPuBbwKXJeKxbcccTqX5c09lMEjdnLmcPGs2F3V28IeD+3m0t6fwb9wKQbDMv5ff3b3vhEceevBp717iQaCH9Pm6TwXehNm78yvdmDrQExkh8zGhOrkqNJNu+VwDbRmWvBR8QjgSLQP+BRMKNlVsR7SfB34F3J1JXnrfCLi2dSeFsXf3GiWWxUmzZrO8ZgYXHDnCg/v38ER/X4F2cwWhSnzsuAb9/Z3l2x7x8ur5y5gY03QCbgFfD0eiuxLxWItPn8YrmJCciUSzBLMv7aUCHeL7WEA4aXK/iEncM9FkMgn8BpP85bURBZONdCcmtfhupdQr2zZvzNhRyh8CrhQHdr78hYUrV/4tsLjQOkFpIMBJs2axtLqaFzva+e3+vYVXEjVYDlYhLPh4dwKSiMf2hyPRF8hsKXcRsCEciX4XuF3B09visbRbA+FIdA4m4dIC57t4OmZPfVsiHvvnHN7uM5jyn+ms3k+GI9HfJuKxV6ZhYc0HKhLx2I40H01m0Hlqz1l7hUpnhWutKzFxwoKXDUutLyC9A1sK+Efg30amQc3KsOqXhvrT7bc/VtdwyTuBXwALC7EzlAeD1M2dx4oZM3js4AF+cfAAtl0AXutW0NdL5z7jDqAhw8/OBP4euEnD3nAk+jxmuVmPI/azMEvS5c6raox45jT22VJqn63108B5aT56OtAcjkQ/BzyUiMcm9B5dFYkGtZkAnQyc6bTlmUAceMex/m7b5o2pcCS6K4NLf0vKtv9ljCU2crJwHCYz14fJLDOXkDfrOxrUmo+Rvjb9JuDfsy3evhJwpRTr62o3N7W2fQj4XzxQZcgtqkIlXLhoMafMnM1D+/bwQGcHtm/jyBUEK/2ccc1v/Ar4/CQnuTOc18nTOO/S1WvXqa2bNuako27dvNEOR6J3A+dmsCxyjtMuO8ORaCuwfYy1XAIcByzVJjVmlfMamWkoHI5EyxLxWP8E53nBmfxMdD3Lgd+EI9GfYpZNNWbL4wTgQiAMzEEcjH1gfVMFnJ9Jd003cSx4AR8hB/dqeB9wKwWc8UgBc8vLuXr5Cs7o7OA3e3bx9OCA/2Q8WO7nmG/fkYjHXglHok3AF3MsAjNsW8/DOOLkituAv8vQUi13JihTnaTMxxRcmsiH8dEMBBygDvg3zB4+mKVyEWz/EcKsTqWjMRyJPgQ8oqADpTSglVL21mk6NPpOwG+sq9VNrW13YfYdvk2Bpy0MKMUJM2exuKqabfv3cs+hA3T7pUKaFfJzqVA/821gXYbWQbaoxuyN50zALcvaYdt2E/A53HdOmAmsSCPgLwGPA2+YhAAIhc8JmBCzQQ1daL0L2KO13h2ORPcCu5zXPkyegA7AVkolt23eOKFfhS9nfevram3gR8CXyTz21deUB4NceNwSPll7EmsqKr0/81KO17lS8vXNvRV+BHhPGrHJNlWYpd+c4Vgv/w94OBc9GliVpt27ge8jhQqLhUHg1UlM1ioxW1urMFXKPoxxbrsFuBv4A9DmiHlCa90cjkQ/H45Ez3by7BeGgDsingL+Ffg6RRKaoYCFlZW8Y+VJvHvREo4LeFjGgxUF4nXuWxF/AVMp6dEcCUqmy4nZvs8u4N3AthycLpMVjV9g8lZngxQSduZl+rI0SR6uTBbCrCjP5Giuhi873+G7wpFo3ZqGK1RBCLgj4kPAVxxrvGg6eollcc78Bdy48iTqq2vwXGhToFSWzr0j4lHHSs1FPvCT8nSfO5zB7lZMaJlbzAlHolVprqUT+BAmtnc6vAT8NRMXTxHy+/0adPqc29oTcr7HDyRT9iUFI+COiA/noN1AkS1dzSkvp/H4lXxk8VKWBz1i7aqAk7BF8Mgg056Ix24GLgK+hVmiy+a2k43JANdK7jKejXefu5VS78Fkw2rBZGqbLkOYhDEbgY8B7whYVk8G1/I4cA1maX8yg/sgZg/9U8CFoWDwu8Bv033jsvntzcUI4YHjqSwetxm4M0faMx9ockINgQJJpbq+rrbXCS8LYWIoi4agZXHW3Hksrapm055dPHCkM3/zGGVBSbWfQ8ZsTF36glv7T8RjzwB/E45Ev4IJVboYE0O9FLNkV4Xx1B6bPCSJyRjVj0nT2oVxVHsBk/axFXhZKdWWzuEGpVJofTumQMNEPBKwJj8uO+e/a1V99Ndaczaw1nmtBGZjCoNUjTMB6XUEv8tZqXgGeArYAjybiMf2TaG9E+FIdJ0j5O/BLInO4Whomj3ifHucScfvgEcS8dhr5U/DkeitzkTiWA2SyPCSfuacYyKemmY3ewyTUnQi+oAjGR7vz5gt0okGtENO35wM8QyO257JcRPxWF84Ev0A8CzwftzfRjrJ6U9fy9WMKy2rItGQhvudL9uxWJuIxzZPdJym1rb5wO1ApBitrZTWPHv4EBv37aEtH5ncQlV+TtiSmtPZ/r/L/+v7b0KpY4UltSql3jCZVIdeJxyJzsAkaal2BK5kzEeGxbvPEfDOkQLjo3ucg3EiqmH0yuPQiInJEctS7dmOZV+9dp2ybb0M46VfMeK8R4BDlmXt3yr50Qvhu7QME8tfD5wCzHMmxzPJblW5P2KKnPQWlIA7In4cxpHk4mLtSO0D/Ty0ZzcbOztyZ40Hy/28dG4DP6y7+/ZvhXa0/ZFjxxUXnIALguCCpplysDUcTQo0HIa4dMS/s53XHGcSnWnq3C6gNhGPHSy4pcL1dbW7m1rbbsDsW51ZjJ1nVmkZVyw/npXt7dyzdzc73bbGrRII+bY0qgbuVvDp0I62eTL0CIIwXbZt3mhj4rk7Rrz9pzEWe7ljmQ+nJz4duB54GxP7p1U51v3BgozzcUT8eoyDwenF2IECyuK02XNYUlXNH/bu5lcdh9HaBWtcBaGkCp9WGRsW7/fpxoZuIlERcEEQcoJTR3xk+ckXwpHobxyr/I1p/rwKCjh93/q62ueAa5m+Y4avqSkp4fKly/nkshWsKM1y0jp/O60Ni/d7dWNDpwwngiB4RNQfz/TzBZ1/d31d7fMYL9CiFvGAUqycOYsbV57MdXPnM8PKwmMfFm/LlxUPbeC/FbxHxFsQhKmyeu26rC49rmm4UjGJ9OB+WkIPrqpfF5ysU9b/fPYz26//wpeuD5aWNqP1KcXc2Sosi/qFx3FSdQ2/3f0qif4+UlNYVlfKMpnWCIDtu/w5SQu+s3Dfni8uvP1/+qiPvvYd0BpJHScIQkaEI9Ey29Y3O/nMH8Uk3+lTSg1NxdF19dp1KplKLQWuSPNRjZNzwU8D1j9qrQ9O9o/6u7r52ac/xazFx3XMW7FCep3D0lSKnq5OhqYgwEpZKKvEn6sRfX0HS7e/tFKlUj8dZ+pS6bwEQRDSUY3JlleFWdXrBJ7TWm8PR6LbgR2YGP9DmLjyI+MY0AudMWe5betVQCOmtO1EHMZJVOQnAZ9WbHf7rt2079otXW4EZaSvRF+ALKTIkv0IguCOHeSIt8KEgM3G5Ms/fxyLeUKbaJLnfQKTu0CWDAVBEARhCpyR4eeyHaITS8RjAyBF5AVBEARhKpxG7uNnXwVuG/5BBFwQBEEQJoFxqObEHJ+2F/hMIh7bKQIuCIIgCFNAax0it+Vz9wAftpS6beSbIuCCIAiCMAmUqdJ3K/AAsNfFU70CfBeoDwUDt241KVpfw0tObBoP1PNWSqli75x6MjlX89VeruSFzaiPCoJQ5GyLx4aAr4Uj0X8HZmA80t+AqUK2EhMKtghTpKSC9HvlGhNuthcTfvYkpvzrny3LOnSsanWeEHDLspIp274RE1eXN0oqygMXvO2Gd85csOAjKFVSdL1S62TXoUM//cMvf/mTvs7OoQk/GwhYHeece2b3gkWXJiuqLteWmgnK5bRs2la27gj29jxQuX/PgzP/vO1x1d+fzGEL9QUDlo0gCALgeIPvd17bAFbVR4NaU4IpzRt0XkuObczTiSl6kgQGFQw4E4RMVgKEkdzy5Pag1voq4DvOrKpYOAh8Rin1vzeesSLj8mWBDZuCKa2rgfOAy4CLMAVkhjvvVPuYDaQwtaifBR5yZqR/DCjVkbp2bVJ6qyAIxYwI+DFoam1bDnwTuJrCjpfXmDSA6y2l/vxXZ6yY8jJx1YZNqlfroG1q356NCbM4CVP/dpEzCw1ifC8sR6Rt5xr2YzIM7QLanFcr8LwFnRVKJbuvXStL2IIgCCLgGYl4CfBu4IscewnEz3QD3we+sr6utsONE1Rt2KQGtVY2KO30t5QR+EqgL2BEGwVaGVXX1UrpgyLWgiAIIuBZEPJljohfT2HkyraBrcDN6+tqfydPWBAEQQS8YLnlye1Ka30p8HngQkzuWz+yF/gW8L31dbVSSlMQBEEEvGis8QrgWuAzmFy4fmnDTuB24Ovr62pfkCcpCIIgAl6sQj4LuA74K0z8n1fbsgu4D/jG+rrarfLkBEEQRMAFI+TVQBR4P3AJJnzKC+wB7gFuAZ5cX1ebkqclCIIgAi68XshLgTrgHZjQs5V5aN8kJiTs/4B7LKVemU5YmCAIgiACXmxiPhsTB93oWOUn4U7eeQ0MAI8DvwPuBJ5ZX1fbI09BEARBBFyYIre0tilt0sMuByLAGiCMSWxS5rS/IrM8ucOvXuBp4DHgj5gMZXvW19X2SosLgiCIgAvuWOaWI9xlQK0j5IuBeZjk96Exf9IDHHBeO4GXMNVp+hQM3FhXK8vjgiAIRcr/B95xWsKTrGU/AAAAAElFTkSuQmCC)\n",
        "\n",
        "---\n",
        "# Introduction\n",
        "At AI Clearing we use image classification and segmentation models based on deep convolutional neural networks for construction site progress reporting. We have prepared two tasks for you which are closely related to what you would deal with on a daily basis if you were in the AI team.\n",
        "\n"
      ]
    },
    {
      "cell_type": "markdown",
      "metadata": {
        "id": "WvH0ND0RdPRZ"
      },
      "source": [
        "# Task 1\n",
        "\n",
        "Download the Fashion-MNIST dataset (https://github.com/zalandoresearch/fashion-mnist). It contains 28x28 single-channel images of clothes grouped into ten classes. There are 60000 examples in the training dataset and 10000 examples in the test dataset. Each training and test example has one of the following labels assigned:\n",
        "\n",
        "| Label | Description |\n",
        "| ----- | ----------- |\n",
        "| 0     | T-shirt/top |\n",
        "| 1     | Trouser     |\n",
        "| 2     | Pullover    |\n",
        "| 3     | Dress       |\n",
        "| 4     | Coat        |\n",
        "| 5     | Sandal      |\n",
        "| 6     | Shirt       |\n",
        "| 7     | Sneaker     |\n",
        "| 8     | Bag         |\n",
        "| 9     | Ankle boot  |\n",
        "\n",
        "We will focus on detecting shoes. Labels 5, 7 and 9 (Sandal, Sneaker and Ankle boot) should be treated as positive and all others (such as Trouser, Dress and so on) should be negative.\n",
        "\n",
        "Please prepare a CNN model for binary classification in PyTorch. You should propose a custom architecture instead of using pretrained models. Train it on samples from Fashion-MNIST’s train dataset and evaluate the quality of the proposed model on samples from Fashion-MNIST’s test dataset.\n"
      ]
    },
    {
      "cell_type": "code",
      "execution_count": 28,
      "metadata": {
        "id": "KgEaWbRVbOrN"
      },
      "outputs": [
        {
          "name": "stderr",
          "output_type": "stream",
          "text": [
            "  1%|          | 1/100 [00:05<08:23,  5.09s/it]"
          ]
        },
        {
          "name": "stdout",
          "output_type": "stream",
          "text": [
            "Epoch:  0 0.000747\n"
          ]
        },
        {
          "name": "stderr",
          "output_type": "stream",
          "text": [
            "  2%|▏         | 2/100 [00:10<08:22,  5.12s/it]"
          ]
        },
        {
          "name": "stdout",
          "output_type": "stream",
          "text": [
            "Epoch:  1 0.000696\n"
          ]
        },
        {
          "name": "stderr",
          "output_type": "stream",
          "text": [
            "  3%|▎         | 3/100 [00:14<07:30,  4.64s/it]"
          ]
        },
        {
          "name": "stdout",
          "output_type": "stream",
          "text": [
            "Epoch:  2 0.011847\n"
          ]
        },
        {
          "name": "stderr",
          "output_type": "stream",
          "text": [
            "  4%|▍         | 4/100 [00:20<08:12,  5.13s/it]"
          ]
        },
        {
          "name": "stdout",
          "output_type": "stream",
          "text": [
            "Epoch:  3 0.009126\n"
          ]
        },
        {
          "name": "stderr",
          "output_type": "stream",
          "text": [
            "  5%|▌         | 5/100 [00:24<07:28,  4.72s/it]"
          ]
        },
        {
          "name": "stdout",
          "output_type": "stream",
          "text": [
            "Epoch:  4 0.011139\n"
          ]
        },
        {
          "name": "stderr",
          "output_type": "stream",
          "text": [
            "  6%|▌         | 6/100 [00:28<07:05,  4.52s/it]"
          ]
        },
        {
          "name": "stdout",
          "output_type": "stream",
          "text": [
            "Epoch:  5 0.011761\n"
          ]
        },
        {
          "name": "stderr",
          "output_type": "stream",
          "text": [
            "  7%|▋         | 7/100 [00:32<06:51,  4.43s/it]"
          ]
        },
        {
          "name": "stdout",
          "output_type": "stream",
          "text": [
            "Epoch:  6 0.010111\n"
          ]
        },
        {
          "name": "stderr",
          "output_type": "stream",
          "text": [
            "  8%|▊         | 8/100 [00:36<06:29,  4.23s/it]"
          ]
        },
        {
          "name": "stdout",
          "output_type": "stream",
          "text": [
            "Epoch:  7 0.008858\n"
          ]
        },
        {
          "name": "stderr",
          "output_type": "stream",
          "text": [
            "  9%|▉         | 9/100 [00:40<06:28,  4.27s/it]"
          ]
        },
        {
          "name": "stdout",
          "output_type": "stream",
          "text": [
            "Epoch:  8 0.008955\n"
          ]
        },
        {
          "name": "stderr",
          "output_type": "stream",
          "text": [
            " 10%|█         | 10/100 [00:44<06:22,  4.25s/it]"
          ]
        },
        {
          "name": "stdout",
          "output_type": "stream",
          "text": [
            "Epoch:  9 0.008329\n"
          ]
        },
        {
          "name": "stderr",
          "output_type": "stream",
          "text": [
            " 11%|█         | 11/100 [00:49<06:13,  4.20s/it]"
          ]
        },
        {
          "name": "stdout",
          "output_type": "stream",
          "text": [
            "Epoch:  10 0.007636\n"
          ]
        },
        {
          "name": "stderr",
          "output_type": "stream",
          "text": [
            " 12%|█▏        | 12/100 [00:52<05:52,  4.01s/it]"
          ]
        },
        {
          "name": "stdout",
          "output_type": "stream",
          "text": [
            "Epoch:  11 0.007063\n"
          ]
        },
        {
          "name": "stderr",
          "output_type": "stream",
          "text": [
            " 13%|█▎        | 13/100 [00:56<05:49,  4.02s/it]"
          ]
        },
        {
          "name": "stdout",
          "output_type": "stream",
          "text": [
            "Epoch:  12 0.006559\n"
          ]
        },
        {
          "name": "stderr",
          "output_type": "stream",
          "text": [
            " 14%|█▍        | 14/100 [01:00<05:46,  4.03s/it]"
          ]
        },
        {
          "name": "stdout",
          "output_type": "stream",
          "text": [
            "Epoch:  13 0.006104\n"
          ]
        },
        {
          "name": "stderr",
          "output_type": "stream",
          "text": [
            " 15%|█▌        | 15/100 [01:04<05:47,  4.09s/it]"
          ]
        },
        {
          "name": "stdout",
          "output_type": "stream",
          "text": [
            "Epoch:  14 0.005713\n"
          ]
        },
        {
          "name": "stderr",
          "output_type": "stream",
          "text": [
            " 16%|█▌        | 16/100 [01:09<05:46,  4.13s/it]"
          ]
        },
        {
          "name": "stdout",
          "output_type": "stream",
          "text": [
            "Epoch:  15 0.005377\n"
          ]
        },
        {
          "name": "stderr",
          "output_type": "stream",
          "text": [
            " 17%|█▋        | 17/100 [01:14<06:05,  4.40s/it]"
          ]
        },
        {
          "name": "stdout",
          "output_type": "stream",
          "text": [
            "Epoch:  16 0.005063\n"
          ]
        },
        {
          "name": "stderr",
          "output_type": "stream",
          "text": [
            " 18%|█▊        | 18/100 [01:18<06:10,  4.52s/it]"
          ]
        },
        {
          "name": "stdout",
          "output_type": "stream",
          "text": [
            "Epoch:  17 0.004785\n"
          ]
        },
        {
          "name": "stderr",
          "output_type": "stream",
          "text": [
            " 19%|█▉        | 19/100 [01:23<05:55,  4.39s/it]"
          ]
        },
        {
          "name": "stdout",
          "output_type": "stream",
          "text": [
            "Epoch:  18 0.004534\n"
          ]
        },
        {
          "name": "stderr",
          "output_type": "stream",
          "text": [
            " 20%|██        | 20/100 [01:26<05:39,  4.24s/it]"
          ]
        },
        {
          "name": "stdout",
          "output_type": "stream",
          "text": [
            "Epoch:  19 0.004309\n"
          ]
        },
        {
          "name": "stderr",
          "output_type": "stream",
          "text": [
            " 21%|██        | 21/100 [01:31<05:36,  4.26s/it]"
          ]
        },
        {
          "name": "stdout",
          "output_type": "stream",
          "text": [
            "Epoch:  20 0.004105\n"
          ]
        },
        {
          "name": "stderr",
          "output_type": "stream",
          "text": [
            " 22%|██▏       | 22/100 [01:35<05:24,  4.16s/it]"
          ]
        },
        {
          "name": "stdout",
          "output_type": "stream",
          "text": [
            "Epoch:  21 0.003919\n"
          ]
        },
        {
          "name": "stderr",
          "output_type": "stream",
          "text": [
            " 23%|██▎       | 23/100 [01:38<05:12,  4.05s/it]"
          ]
        },
        {
          "name": "stdout",
          "output_type": "stream",
          "text": [
            "Epoch:  22 0.003749\n"
          ]
        },
        {
          "name": "stderr",
          "output_type": "stream",
          "text": [
            " 24%|██▍       | 24/100 [01:42<05:02,  3.97s/it]"
          ]
        },
        {
          "name": "stdout",
          "output_type": "stream",
          "text": [
            "Epoch:  23 0.003604\n"
          ]
        },
        {
          "name": "stderr",
          "output_type": "stream",
          "text": [
            " 25%|██▌       | 25/100 [01:46<04:58,  3.98s/it]"
          ]
        },
        {
          "name": "stdout",
          "output_type": "stream",
          "text": [
            "Epoch:  24 0.003463\n"
          ]
        },
        {
          "name": "stderr",
          "output_type": "stream",
          "text": [
            " 26%|██▌       | 26/100 [01:50<04:53,  3.96s/it]"
          ]
        },
        {
          "name": "stdout",
          "output_type": "stream",
          "text": [
            "Epoch:  25 0.003331\n"
          ]
        },
        {
          "name": "stderr",
          "output_type": "stream",
          "text": [
            " 27%|██▋       | 27/100 [01:54<04:48,  3.96s/it]"
          ]
        },
        {
          "name": "stdout",
          "output_type": "stream",
          "text": [
            "Epoch:  26 0.003208\n"
          ]
        },
        {
          "name": "stderr",
          "output_type": "stream",
          "text": [
            " 28%|██▊       | 28/100 [01:58<04:43,  3.94s/it]"
          ]
        },
        {
          "name": "stdout",
          "output_type": "stream",
          "text": [
            "Epoch:  27 0.003094\n"
          ]
        },
        {
          "name": "stderr",
          "output_type": "stream",
          "text": [
            " 29%|██▉       | 29/100 [02:02<04:38,  3.92s/it]"
          ]
        },
        {
          "name": "stdout",
          "output_type": "stream",
          "text": [
            "Epoch:  28 0.002988\n"
          ]
        },
        {
          "name": "stderr",
          "output_type": "stream",
          "text": [
            " 30%|███       | 30/100 [02:06<04:37,  3.97s/it]"
          ]
        },
        {
          "name": "stdout",
          "output_type": "stream",
          "text": [
            "Epoch:  29 0.002888\n"
          ]
        },
        {
          "name": "stderr",
          "output_type": "stream",
          "text": [
            " 31%|███       | 31/100 [02:10<04:37,  4.02s/it]"
          ]
        },
        {
          "name": "stdout",
          "output_type": "stream",
          "text": [
            "Epoch:  30 0.002795\n"
          ]
        },
        {
          "name": "stderr",
          "output_type": "stream",
          "text": [
            " 32%|███▏      | 32/100 [02:15<04:42,  4.15s/it]"
          ]
        },
        {
          "name": "stdout",
          "output_type": "stream",
          "text": [
            "Epoch:  31 0.002708\n"
          ]
        },
        {
          "name": "stderr",
          "output_type": "stream",
          "text": [
            " 33%|███▎      | 33/100 [02:20<04:55,  4.41s/it]"
          ]
        },
        {
          "name": "stdout",
          "output_type": "stream",
          "text": [
            "Epoch:  32 0.002626\n"
          ]
        },
        {
          "name": "stderr",
          "output_type": "stream",
          "text": [
            " 34%|███▍      | 34/100 [02:26<05:33,  5.06s/it]"
          ]
        },
        {
          "name": "stdout",
          "output_type": "stream",
          "text": [
            "Epoch:  33 0.002549\n"
          ]
        },
        {
          "name": "stderr",
          "output_type": "stream",
          "text": [
            " 35%|███▌      | 35/100 [02:34<06:28,  5.98s/it]"
          ]
        },
        {
          "name": "stdout",
          "output_type": "stream",
          "text": [
            "Epoch:  34 0.002476\n"
          ]
        },
        {
          "name": "stderr",
          "output_type": "stream",
          "text": [
            " 36%|███▌      | 36/100 [02:39<05:50,  5.47s/it]"
          ]
        },
        {
          "name": "stdout",
          "output_type": "stream",
          "text": [
            "Epoch:  35 0.002407\n"
          ]
        },
        {
          "name": "stderr",
          "output_type": "stream",
          "text": [
            " 37%|███▋      | 37/100 [02:43<05:25,  5.17s/it]"
          ]
        },
        {
          "name": "stdout",
          "output_type": "stream",
          "text": [
            "Epoch:  36 0.002342\n"
          ]
        },
        {
          "name": "stderr",
          "output_type": "stream",
          "text": [
            " 38%|███▊      | 38/100 [02:48<05:11,  5.02s/it]"
          ]
        },
        {
          "name": "stdout",
          "output_type": "stream",
          "text": [
            "Epoch:  37 0.002282\n"
          ]
        },
        {
          "name": "stderr",
          "output_type": "stream",
          "text": [
            " 39%|███▉      | 39/100 [02:53<05:19,  5.24s/it]"
          ]
        },
        {
          "name": "stdout",
          "output_type": "stream",
          "text": [
            "Epoch:  38 0.002223\n"
          ]
        },
        {
          "name": "stderr",
          "output_type": "stream",
          "text": [
            " 40%|████      | 40/100 [02:59<05:13,  5.22s/it]"
          ]
        },
        {
          "name": "stdout",
          "output_type": "stream",
          "text": [
            "Epoch:  39 0.002168\n"
          ]
        },
        {
          "name": "stderr",
          "output_type": "stream",
          "text": [
            " 41%|████      | 41/100 [03:05<05:24,  5.50s/it]"
          ]
        },
        {
          "name": "stdout",
          "output_type": "stream",
          "text": [
            "Epoch:  40 0.002115\n"
          ]
        },
        {
          "name": "stderr",
          "output_type": "stream",
          "text": [
            " 42%|████▏     | 42/100 [03:12<05:42,  5.90s/it]"
          ]
        },
        {
          "name": "stdout",
          "output_type": "stream",
          "text": [
            "Epoch:  41 0.002065\n"
          ]
        },
        {
          "name": "stderr",
          "output_type": "stream",
          "text": [
            " 43%|████▎     | 43/100 [03:18<05:52,  6.19s/it]"
          ]
        },
        {
          "name": "stdout",
          "output_type": "stream",
          "text": [
            "Epoch:  42 0.002017\n"
          ]
        },
        {
          "name": "stderr",
          "output_type": "stream",
          "text": [
            " 44%|████▍     | 44/100 [03:27<06:25,  6.88s/it]"
          ]
        },
        {
          "name": "stdout",
          "output_type": "stream",
          "text": [
            "Epoch:  43 0.001971\n"
          ]
        },
        {
          "name": "stderr",
          "output_type": "stream",
          "text": [
            " 45%|████▌     | 45/100 [03:36<06:52,  7.49s/it]"
          ]
        },
        {
          "name": "stdout",
          "output_type": "stream",
          "text": [
            "Epoch:  44 0.001928\n"
          ]
        },
        {
          "name": "stderr",
          "output_type": "stream",
          "text": [
            " 46%|████▌     | 46/100 [03:46<07:29,  8.33s/it]"
          ]
        },
        {
          "name": "stdout",
          "output_type": "stream",
          "text": [
            "Epoch:  45 0.001887\n"
          ]
        },
        {
          "name": "stderr",
          "output_type": "stream",
          "text": [
            " 47%|████▋     | 47/100 [03:57<08:06,  9.18s/it]"
          ]
        },
        {
          "name": "stdout",
          "output_type": "stream",
          "text": [
            "Epoch:  46 0.001846\n"
          ]
        },
        {
          "name": "stderr",
          "output_type": "stream",
          "text": [
            " 48%|████▊     | 48/100 [04:10<08:59, 10.37s/it]"
          ]
        },
        {
          "name": "stdout",
          "output_type": "stream",
          "text": [
            "Epoch:  47 0.001808\n"
          ]
        },
        {
          "name": "stderr",
          "output_type": "stream",
          "text": [
            " 49%|████▉     | 49/100 [04:24<09:44, 11.46s/it]"
          ]
        },
        {
          "name": "stdout",
          "output_type": "stream",
          "text": [
            "Epoch:  48 0.001771\n"
          ]
        },
        {
          "name": "stderr",
          "output_type": "stream",
          "text": [
            " 50%|█████     | 50/100 [04:39<10:20, 12.41s/it]"
          ]
        },
        {
          "name": "stdout",
          "output_type": "stream",
          "text": [
            "Epoch:  49 0.001736\n"
          ]
        },
        {
          "name": "stderr",
          "output_type": "stream",
          "text": [
            " 51%|█████     | 51/100 [04:54<10:51, 13.30s/it]"
          ]
        },
        {
          "name": "stdout",
          "output_type": "stream",
          "text": [
            "Epoch:  50 0.001702\n"
          ]
        },
        {
          "name": "stderr",
          "output_type": "stream",
          "text": [
            " 52%|█████▏    | 52/100 [05:12<11:37, 14.53s/it]"
          ]
        },
        {
          "name": "stdout",
          "output_type": "stream",
          "text": [
            "Epoch:  51 0.001669\n"
          ]
        },
        {
          "name": "stderr",
          "output_type": "stream",
          "text": [
            " 53%|█████▎    | 53/100 [05:30<12:17, 15.69s/it]"
          ]
        },
        {
          "name": "stdout",
          "output_type": "stream",
          "text": [
            "Epoch:  52 0.001638\n"
          ]
        },
        {
          "name": "stderr",
          "output_type": "stream",
          "text": [
            " 54%|█████▍    | 54/100 [05:50<12:55, 16.86s/it]"
          ]
        },
        {
          "name": "stdout",
          "output_type": "stream",
          "text": [
            "Epoch:  53 0.001607\n"
          ]
        },
        {
          "name": "stderr",
          "output_type": "stream",
          "text": [
            " 55%|█████▌    | 55/100 [06:10<13:21, 17.81s/it]"
          ]
        },
        {
          "name": "stdout",
          "output_type": "stream",
          "text": [
            "Epoch:  54 0.001578\n"
          ]
        },
        {
          "name": "stderr",
          "output_type": "stream",
          "text": [
            " 56%|█████▌    | 56/100 [06:32<14:01, 19.13s/it]"
          ]
        },
        {
          "name": "stdout",
          "output_type": "stream",
          "text": [
            "Epoch:  55 0.001550\n"
          ]
        },
        {
          "name": "stderr",
          "output_type": "stream",
          "text": [
            " 57%|█████▋    | 57/100 [06:57<14:53, 20.77s/it]"
          ]
        },
        {
          "name": "stdout",
          "output_type": "stream",
          "text": [
            "Epoch:  56 0.001523\n"
          ]
        },
        {
          "name": "stderr",
          "output_type": "stream",
          "text": [
            " 58%|█████▊    | 58/100 [07:23<15:46, 22.53s/it]"
          ]
        },
        {
          "name": "stdout",
          "output_type": "stream",
          "text": [
            "Epoch:  57 0.001497\n"
          ]
        },
        {
          "name": "stderr",
          "output_type": "stream",
          "text": [
            " 59%|█████▉    | 59/100 [07:51<16:27, 24.08s/it]"
          ]
        },
        {
          "name": "stdout",
          "output_type": "stream",
          "text": [
            "Epoch:  58 0.001471\n"
          ]
        },
        {
          "name": "stderr",
          "output_type": "stream",
          "text": [
            " 60%|██████    | 60/100 [08:17<16:25, 24.64s/it]"
          ]
        },
        {
          "name": "stdout",
          "output_type": "stream",
          "text": [
            "Epoch:  59 0.001448\n"
          ]
        },
        {
          "name": "stderr",
          "output_type": "stream",
          "text": [
            " 61%|██████    | 61/100 [08:26<12:59, 19.98s/it]"
          ]
        },
        {
          "name": "stdout",
          "output_type": "stream",
          "text": [
            "Epoch:  60 0.001424\n"
          ]
        },
        {
          "name": "stderr",
          "output_type": "stream",
          "text": [
            " 62%|██████▏   | 62/100 [08:36<10:42, 16.90s/it]"
          ]
        },
        {
          "name": "stdout",
          "output_type": "stream",
          "text": [
            "Epoch:  61 0.001402\n"
          ]
        },
        {
          "name": "stderr",
          "output_type": "stream",
          "text": [
            " 63%|██████▎   | 63/100 [08:47<09:18, 15.10s/it]"
          ]
        },
        {
          "name": "stdout",
          "output_type": "stream",
          "text": [
            "Epoch:  62 0.001380\n"
          ]
        },
        {
          "name": "stderr",
          "output_type": "stream",
          "text": [
            " 64%|██████▍   | 64/100 [08:58<08:19, 13.88s/it]"
          ]
        },
        {
          "name": "stdout",
          "output_type": "stream",
          "text": [
            "Epoch:  63 0.001358\n"
          ]
        },
        {
          "name": "stderr",
          "output_type": "stream",
          "text": [
            " 65%|██████▌   | 65/100 [09:10<07:44, 13.26s/it]"
          ]
        },
        {
          "name": "stdout",
          "output_type": "stream",
          "text": [
            "Epoch:  64 0.001337\n"
          ]
        },
        {
          "name": "stderr",
          "output_type": "stream",
          "text": [
            " 66%|██████▌   | 66/100 [09:22<07:27, 13.16s/it]"
          ]
        },
        {
          "name": "stdout",
          "output_type": "stream",
          "text": [
            "Epoch:  65 0.001317\n"
          ]
        },
        {
          "name": "stderr",
          "output_type": "stream",
          "text": [
            " 67%|██████▋   | 67/100 [09:36<07:21, 13.38s/it]"
          ]
        },
        {
          "name": "stdout",
          "output_type": "stream",
          "text": [
            "Epoch:  66 0.001297\n"
          ]
        },
        {
          "name": "stderr",
          "output_type": "stream",
          "text": [
            " 68%|██████▊   | 68/100 [09:53<07:35, 14.23s/it]"
          ]
        },
        {
          "name": "stdout",
          "output_type": "stream",
          "text": [
            "Epoch:  67 0.001278\n"
          ]
        },
        {
          "name": "stderr",
          "output_type": "stream",
          "text": [
            " 69%|██████▉   | 69/100 [10:09<07:41, 14.90s/it]"
          ]
        },
        {
          "name": "stdout",
          "output_type": "stream",
          "text": [
            "Epoch:  68 0.001260\n"
          ]
        },
        {
          "name": "stderr",
          "output_type": "stream",
          "text": [
            " 70%|███████   | 70/100 [10:26<07:48, 15.61s/it]"
          ]
        },
        {
          "name": "stdout",
          "output_type": "stream",
          "text": [
            "Epoch:  69 0.001242\n"
          ]
        },
        {
          "name": "stderr",
          "output_type": "stream",
          "text": [
            " 71%|███████   | 71/100 [10:44<07:52, 16.28s/it]"
          ]
        },
        {
          "name": "stdout",
          "output_type": "stream",
          "text": [
            "Epoch:  70 0.001224\n"
          ]
        },
        {
          "name": "stderr",
          "output_type": "stream",
          "text": [
            " 72%|███████▏  | 72/100 [11:04<08:03, 17.26s/it]"
          ]
        },
        {
          "name": "stdout",
          "output_type": "stream",
          "text": [
            "Epoch:  71 0.001207\n"
          ]
        },
        {
          "name": "stderr",
          "output_type": "stream",
          "text": [
            " 73%|███████▎  | 73/100 [11:24<08:13, 18.27s/it]"
          ]
        },
        {
          "name": "stdout",
          "output_type": "stream",
          "text": [
            "Epoch:  72 0.001191\n"
          ]
        },
        {
          "name": "stderr",
          "output_type": "stream",
          "text": [
            " 74%|███████▍  | 74/100 [11:46<08:21, 19.27s/it]"
          ]
        },
        {
          "name": "stdout",
          "output_type": "stream",
          "text": [
            "Epoch:  73 0.001175\n"
          ]
        },
        {
          "name": "stderr",
          "output_type": "stream",
          "text": [
            " 75%|███████▌  | 75/100 [12:08<08:25, 20.23s/it]"
          ]
        },
        {
          "name": "stdout",
          "output_type": "stream",
          "text": [
            "Epoch:  74 0.001159\n"
          ]
        },
        {
          "name": "stderr",
          "output_type": "stream",
          "text": [
            " 76%|███████▌  | 76/100 [12:32<08:30, 21.26s/it]"
          ]
        },
        {
          "name": "stdout",
          "output_type": "stream",
          "text": [
            "Epoch:  75 0.001144\n"
          ]
        },
        {
          "name": "stderr",
          "output_type": "stream",
          "text": [
            " 77%|███████▋  | 77/100 [12:57<08:31, 22.26s/it]"
          ]
        },
        {
          "name": "stdout",
          "output_type": "stream",
          "text": [
            "Epoch:  76 0.001129\n"
          ]
        },
        {
          "name": "stderr",
          "output_type": "stream",
          "text": [
            " 78%|███████▊  | 78/100 [13:23<08:36, 23.49s/it]"
          ]
        },
        {
          "name": "stdout",
          "output_type": "stream",
          "text": [
            "Epoch:  77 0.001115\n"
          ]
        },
        {
          "name": "stderr",
          "output_type": "stream",
          "text": [
            " 79%|███████▉  | 79/100 [13:50<08:35, 24.53s/it]"
          ]
        },
        {
          "name": "stdout",
          "output_type": "stream",
          "text": [
            "Epoch:  78 0.001100\n"
          ]
        },
        {
          "name": "stderr",
          "output_type": "stream",
          "text": [
            " 80%|████████  | 80/100 [14:19<08:35, 25.78s/it]"
          ]
        },
        {
          "name": "stdout",
          "output_type": "stream",
          "text": [
            "Epoch:  79 0.001087\n"
          ]
        },
        {
          "name": "stderr",
          "output_type": "stream",
          "text": [
            " 81%|████████  | 81/100 [14:48<08:30, 26.85s/it]"
          ]
        },
        {
          "name": "stdout",
          "output_type": "stream",
          "text": [
            "Epoch:  80 0.001073\n"
          ]
        },
        {
          "name": "stderr",
          "output_type": "stream",
          "text": [
            " 82%|████████▏ | 82/100 [15:18<08:22, 27.89s/it]"
          ]
        },
        {
          "name": "stdout",
          "output_type": "stream",
          "text": [
            "Epoch:  81 0.001060\n"
          ]
        },
        {
          "name": "stderr",
          "output_type": "stream",
          "text": [
            " 83%|████████▎ | 83/100 [15:50<08:14, 29.06s/it]"
          ]
        },
        {
          "name": "stdout",
          "output_type": "stream",
          "text": [
            "Epoch:  82 0.001047\n"
          ]
        },
        {
          "name": "stderr",
          "output_type": "stream",
          "text": [
            " 84%|████████▍ | 84/100 [16:22<07:59, 29.99s/it]"
          ]
        },
        {
          "name": "stdout",
          "output_type": "stream",
          "text": [
            "Epoch:  83 0.001035\n"
          ]
        },
        {
          "name": "stderr",
          "output_type": "stream",
          "text": [
            " 85%|████████▌ | 85/100 [16:56<07:45, 31.01s/it]"
          ]
        },
        {
          "name": "stdout",
          "output_type": "stream",
          "text": [
            "Epoch:  84 0.001023\n"
          ]
        },
        {
          "name": "stderr",
          "output_type": "stream",
          "text": [
            " 86%|████████▌ | 86/100 [17:31<07:32, 32.34s/it]"
          ]
        },
        {
          "name": "stdout",
          "output_type": "stream",
          "text": [
            "Epoch:  85 0.001011\n"
          ]
        },
        {
          "name": "stderr",
          "output_type": "stream",
          "text": [
            " 87%|████████▋ | 87/100 [18:08<07:17, 33.65s/it]"
          ]
        },
        {
          "name": "stdout",
          "output_type": "stream",
          "text": [
            "Epoch:  86 0.000999\n"
          ]
        },
        {
          "name": "stderr",
          "output_type": "stream",
          "text": [
            " 88%|████████▊ | 88/100 [18:45<06:57, 34.76s/it]"
          ]
        },
        {
          "name": "stdout",
          "output_type": "stream",
          "text": [
            "Epoch:  87 0.000988\n"
          ]
        },
        {
          "name": "stderr",
          "output_type": "stream",
          "text": [
            " 89%|████████▉ | 89/100 [19:26<06:41, 36.48s/it]"
          ]
        },
        {
          "name": "stdout",
          "output_type": "stream",
          "text": [
            "Epoch:  88 0.000977\n"
          ]
        },
        {
          "name": "stderr",
          "output_type": "stream",
          "text": [
            " 90%|█████████ | 90/100 [20:06<06:16, 37.66s/it]"
          ]
        },
        {
          "name": "stdout",
          "output_type": "stream",
          "text": [
            "Epoch:  89 0.000966\n"
          ]
        },
        {
          "name": "stderr",
          "output_type": "stream",
          "text": [
            " 91%|█████████ | 91/100 [20:47<05:48, 38.72s/it]"
          ]
        },
        {
          "name": "stdout",
          "output_type": "stream",
          "text": [
            "Epoch:  90 0.000955\n"
          ]
        },
        {
          "name": "stderr",
          "output_type": "stream",
          "text": [
            " 92%|█████████▏| 92/100 [21:31<05:20, 40.10s/it]"
          ]
        },
        {
          "name": "stdout",
          "output_type": "stream",
          "text": [
            "Epoch:  91 0.000945\n"
          ]
        },
        {
          "name": "stderr",
          "output_type": "stream",
          "text": [
            " 93%|█████████▎| 93/100 [22:14<04:48, 41.21s/it]"
          ]
        },
        {
          "name": "stdout",
          "output_type": "stream",
          "text": [
            "Epoch:  92 0.000935\n"
          ]
        },
        {
          "name": "stderr",
          "output_type": "stream",
          "text": [
            " 94%|█████████▍| 94/100 [23:00<04:15, 42.62s/it]"
          ]
        },
        {
          "name": "stdout",
          "output_type": "stream",
          "text": [
            "Epoch:  93 0.000925\n"
          ]
        },
        {
          "name": "stderr",
          "output_type": "stream",
          "text": [
            " 95%|█████████▌| 95/100 [23:46<03:37, 43.50s/it]"
          ]
        },
        {
          "name": "stdout",
          "output_type": "stream",
          "text": [
            "Epoch:  94 0.000915\n"
          ]
        },
        {
          "name": "stderr",
          "output_type": "stream",
          "text": [
            " 96%|█████████▌| 96/100 [24:32<02:57, 44.29s/it]"
          ]
        },
        {
          "name": "stdout",
          "output_type": "stream",
          "text": [
            "Epoch:  95 0.000906\n"
          ]
        },
        {
          "name": "stderr",
          "output_type": "stream",
          "text": [
            " 97%|█████████▋| 97/100 [25:19<02:15, 45.15s/it]"
          ]
        },
        {
          "name": "stdout",
          "output_type": "stream",
          "text": [
            "Epoch:  96 0.000896\n"
          ]
        }
      ],
      "source": [
        "import torch\n",
        "from torchvision.datasets import FashionMNIST\n",
        "from torchvision.transforms import ToTensor\n",
        "from torch.utils.data import random_split, DataLoader\n",
        "import torch.nn as nn\n",
        "\n",
        "import matplotlib.pyplot as plt\n",
        "import numpy as np\n",
        "from tqdm import tqdm\n",
        "\n",
        "#HYPER\n",
        "BATCH_SIZE = 128\n",
        "LEARNNING_RATE = 0.001\n",
        "EPOCHS = 100\n",
        "\n",
        "#Dataset & Dataloader\n",
        "train_dataset = FashionMNIST(root='./', train=True, download=True, transform=ToTensor())\n",
        "test_dataset =  FashionMNIST(root='./', train=False, download=True, transform=ToTensor())\n",
        "\n",
        "train_size = int(len(train_dataset)*0.8)\n",
        "val_size = int(len(train_dataset) - train_size)\n",
        "\n",
        "\n",
        "train, validation = random_split(dataset = train_dataset, \n",
        "                          lengths = [train_size, val_size], \n",
        "                          generator = torch.Generator().manual_seed(77))\n",
        "\n",
        "\n",
        "train_dataloader = DataLoader(dataset=train, batch_size=BATCH_SIZE, shuffle=True, num_workers=2)\n",
        "val_dataloader = DataLoader(dataset = validation, batch_size=BATCH_SIZE, shuffle = False, num_workers=2)\n",
        "test_dataloader = DataLoader(dataset = test_dataset, batch_size=BATCH_SIZE, shuffle = True, num_workers=2)\n",
        "\n",
        "#Prepare binary classes\n",
        "targets_dict = train_dataset.class_to_idx\n",
        "shoe_category = []\n",
        "for key, val in targets_dict.items():\n",
        "    if key == 'Sandal' or key == 'Sneaker' or key == 'Ankle boot':\n",
        "        shoe_category.append(val)\n",
        "\n",
        "#MODEL\n",
        "class BinaryFMnist(nn.Module):\n",
        "    def __init__(self):\n",
        "        super(BinaryFMnist, self).__init__()\n",
        "        self.conv1 = nn.Conv2d(1, 16, kernel_size=3, stride=1, padding=1)\n",
        "        self.relu = nn.ReLU()\n",
        "        self.maxpool = nn.MaxPool2d(kernel_size=2, stride=2)\n",
        "        self.conv2 = nn.Conv2d(16, 32, kernel_size=3, stride=1, padding=1)\n",
        "        self.flatten = nn.Flatten()\n",
        "        self.fc = nn.Linear(32 * 7 * 7, 1)\n",
        "        self.sigmoid = nn.Sigmoid()\n",
        "\n",
        "    def forward(self, x):\n",
        "        x = self.conv1(x)\n",
        "        x = self.relu(x)\n",
        "        x = self.maxpool(x)\n",
        "        x = self.conv2(x)\n",
        "        x = self.relu(x)\n",
        "        x = self.maxpool(x)\n",
        "        x = self.flatten(x)\n",
        "        x = self.fc(x)\n",
        "        x = self.sigmoid(x)\n",
        "        return x\n",
        "\n",
        "#MCO\n",
        "model = BinaryFMnist()\n",
        "criterion = nn.BCELoss()\n",
        "optimizer = torch.optim.Adam(model.parameters(), lr = LEARNNING_RATE)\n",
        "\n",
        "#\n",
        "def relabel_target(label):\n",
        "    \"\"\"\n",
        "    Returns torch.tensor with a binary category way. \n",
        "    If an image depicts foot wearables, function returns torch.tensor([1.0]),\n",
        "    for any other wearable, returns torch.tensor([0.0])\n",
        "    \"\"\"\n",
        "    target = []\n",
        "    for idx, value in enumerate(label):\n",
        "            if value.item() in shoe_category:\n",
        "                target.append([1.0])\n",
        "            else:\n",
        "                target.append([0.0])\n",
        "    label = torch.tensor(target)\n",
        "    return label\n",
        "\n",
        "running_loss = []\n",
        "iterations = len(train_dataloader)/BATCH_SIZE\n",
        "for epoch in tqdm(range(EPOCHS)):\n",
        "    for i, (img, label) in enumerate(train_dataloader):\n",
        "        \n",
        "        label = relabel_target(label)\n",
        "        output = model(img)\n",
        "        loss = criterion(output, label)\n",
        "\n",
        "        optimizer.zero_grad()\n",
        "        loss.backward()\n",
        "        optimizer.step()\n",
        "\n",
        "    running_loss.append(loss.item())\n",
        "    print('Epoch: ', epoch, f'{sum(running_loss)/len(running_loss):.6f}')\n",
        "\n",
        "plt.plot(running_loss)\n"
      ]
    },
    {
      "cell_type": "code",
      "execution_count": 27,
      "metadata": {},
      "outputs": [
        {
          "name": "stdout",
          "output_type": "stream",
          "text": [
            "Model accuracy:  34.177215189873415 %\n"
          ]
        }
      ],
      "source": [
        "correct = 0\n",
        "total = 0\n",
        "\n",
        "test_iter = iter(test_dataloader)\n",
        "with torch.no_grad():\n",
        "    for _, (img, label) in enumerate(test_dataloader):\n",
        "        label = relabel_target(label)\n",
        "        output = model(img)\n",
        "\n",
        "        if output.argmax().item() == label.argmax().item():\n",
        "            correct += 1\n",
        "\n",
        "print(\"Model accuracy: \", 100 * correct/len(test_dataloader), \"%\")\n",
        "    "
      ]
    },
    {
      "cell_type": "markdown",
      "metadata": {
        "id": "D5pQFsTLeXSQ"
      },
      "source": [
        "# Task 2\n",
        "After finishing the first task you should have a pre-trained CNN model. Your second task will be to classify shoes into two groups - Heels and Flats. Download the Shoes dataset (https://drive.google.com/file/d/18vadC13cpUlfXaSoYb7tk0nVZ9jw4VhX). There are two samples in the training split: one sample of Heels and one sample of Flats. Your solution can only use these examples and the model from the previous task. Evaluate the quality of your model on a provided test dataset.\n"
      ]
    },
    {
      "cell_type": "code",
      "execution_count": null,
      "metadata": {
        "id": "GZT8cEArepMp"
      },
      "outputs": [],
      "source": [
        "# Solution for Task 2\n"
      ]
    }
  ],
  "metadata": {
    "colab": {
      "provenance": []
    },
    "kernelspec": {
      "display_name": "Python 3",
      "name": "python3"
    },
    "language_info": {
      "codemirror_mode": {
        "name": "ipython",
        "version": 3
      },
      "file_extension": ".py",
      "mimetype": "text/x-python",
      "name": "python",
      "nbconvert_exporter": "python",
      "pygments_lexer": "ipython3",
      "version": "3.11.3"
    }
  },
  "nbformat": 4,
  "nbformat_minor": 0
}
